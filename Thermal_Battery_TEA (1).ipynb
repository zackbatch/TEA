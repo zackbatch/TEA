{
  "cells": [
    {
      "cell_type": "markdown",
      "metadata": {
        "id": "ZWjqsERpfpcU"
      },
      "source": [
        "# Fourth Power's Thermal Battery Techno-Economic-Analysis (TEA)"
      ]
    },
    {
      "cell_type": "markdown",
      "metadata": {
        "id": "Cys-RASlf1z3"
      },
      "source": [
        "## Spreadsheet/Data Cleaning & Preparation"
      ]
    },
    {
      "cell_type": "markdown",
      "metadata": {
        "id": "8oipK_yZeVmO"
      },
      "source": [
        "### Download Cost of Unit Energy and Cost of Unit Power Excel Sheets"
      ]
    },
    {
      "cell_type": "code",
      "execution_count": null,
      "metadata": {
        "colab": {
          "base_uri": "https://localhost:8080/"
        },
        "id": "KIZvZlhJLTn4",
        "outputId": "0b660e83-ca99-4801-d632-5618e551587e"
      },
      "outputs": [
        {
          "name": "stdout",
          "output_type": "stream",
          "text": [
            "Requirement already satisfied: plotly in /Users/zackbatchelder/anaconda3/lib/python3.11/site-packages (5.9.0)\n",
            "Requirement already satisfied: tenacity>=6.2.0 in /Users/zackbatchelder/anaconda3/lib/python3.11/site-packages (from plotly) (8.2.2)\n",
            "Requirement already satisfied: matplotlib in /Users/zackbatchelder/anaconda3/lib/python3.11/site-packages (3.7.1)\n",
            "Requirement already satisfied: contourpy>=1.0.1 in /Users/zackbatchelder/anaconda3/lib/python3.11/site-packages (from matplotlib) (1.0.5)\n",
            "Requirement already satisfied: cycler>=0.10 in /Users/zackbatchelder/anaconda3/lib/python3.11/site-packages (from matplotlib) (0.11.0)\n",
            "Requirement already satisfied: fonttools>=4.22.0 in /Users/zackbatchelder/anaconda3/lib/python3.11/site-packages (from matplotlib) (4.25.0)\n",
            "Requirement already satisfied: kiwisolver>=1.0.1 in /Users/zackbatchelder/anaconda3/lib/python3.11/site-packages (from matplotlib) (1.4.4)\n",
            "Requirement already satisfied: numpy>=1.20 in /Users/zackbatchelder/anaconda3/lib/python3.11/site-packages (from matplotlib) (1.24.3)\n",
            "Requirement already satisfied: packaging>=20.0 in /Users/zackbatchelder/anaconda3/lib/python3.11/site-packages (from matplotlib) (23.0)\n",
            "Requirement already satisfied: pillow>=6.2.0 in /Users/zackbatchelder/anaconda3/lib/python3.11/site-packages (from matplotlib) (9.4.0)\n",
            "Requirement already satisfied: pyparsing>=2.3.1 in /Users/zackbatchelder/anaconda3/lib/python3.11/site-packages (from matplotlib) (3.0.9)\n",
            "Requirement already satisfied: python-dateutil>=2.7 in /Users/zackbatchelder/anaconda3/lib/python3.11/site-packages (from matplotlib) (2.8.2)\n",
            "Requirement already satisfied: six>=1.5 in /Users/zackbatchelder/anaconda3/lib/python3.11/site-packages (from python-dateutil>=2.7->matplotlib) (1.16.0)\n"
          ]
        },
        {
          "ename": "ModuleNotFoundError",
          "evalue": "No module named 'graphviz'",
          "output_type": "error",
          "traceback": [
            "\u001b[0;31m---------------------------------------------------------------------------\u001b[0m",
            "\u001b[0;31mModuleNotFoundError\u001b[0m                       Traceback (most recent call last)",
            "Cell \u001b[0;32mIn[1], line 9\u001b[0m\n\u001b[1;32m      7\u001b[0m \u001b[38;5;28;01mfrom\u001b[39;00m \u001b[38;5;21;01mipywidgets\u001b[39;00m \u001b[38;5;28;01mimport\u001b[39;00m FloatText, VBox\n\u001b[1;32m      8\u001b[0m \u001b[38;5;28;01mimport\u001b[39;00m \u001b[38;5;21;01mmatplotlib\u001b[39;00m\u001b[38;5;21;01m.\u001b[39;00m\u001b[38;5;21;01mpyplot\u001b[39;00m \u001b[38;5;28;01mas\u001b[39;00m \u001b[38;5;21;01mplt\u001b[39;00m\n\u001b[0;32m----> 9\u001b[0m \u001b[38;5;28;01mimport\u001b[39;00m \u001b[38;5;21;01mgraphviz\u001b[39;00m\n\u001b[1;32m     10\u001b[0m \u001b[38;5;28;01mimport\u001b[39;00m \u001b[38;5;21;01mnetworkx\u001b[39;00m \u001b[38;5;28;01mas\u001b[39;00m \u001b[38;5;21;01mnx\u001b[39;00m\n\u001b[1;32m     12\u001b[0m file_path \u001b[38;5;241m=\u001b[39m \u001b[38;5;124m'\u001b[39m\u001b[38;5;124m/content/Detailed Demo Budget (TEA).xlsx\u001b[39m\u001b[38;5;124m'\u001b[39m\n",
            "\u001b[0;31mModuleNotFoundError\u001b[0m: No module named 'graphviz'"
          ]
        }
      ],
      "source": [
        "!pip install plotly\n",
        "!pip install matplotlib\n",
        "import pandas as pd\n",
        "import math\n",
        "import numpy as np\n",
        "import plotly.graph_objects as go\n",
        "from ipywidgets import FloatText, VBox\n",
        "import matplotlib.pyplot as plt\n",
        "import graphviz\n",
        "import networkx as nx\n",
        "\n",
        "file_path = '/content/Detailed Demo Budget (TEA).xlsx'\n",
        "cost_energy = 'Zack - cost unit energy'\n",
        "cost_power = 'Zack - costs unit power'\n",
        "overall_costs = '1 MWh budget est'\n",
        "energy_sheet = pd.read_excel(file_path, sheet_name=cost_energy, index_col=-1)\n",
        "power_sheet = pd.read_excel(file_path, sheet_name=cost_power, index_col=-1)\n",
        "costs_sheet = pd.read_excel(file_path, sheet_name=overall_costs)\n",
        "print(energy_sheet, power_sheet)"
      ]
    },
    {
      "cell_type": "markdown",
      "metadata": {
        "id": "-Uhd0-beef7Z"
      },
      "source": [
        "### Select columns for calculating components for Energy and Power Sheets"
      ]
    },
    {
      "cell_type": "code",
      "execution_count": null,
      "metadata": {
        "id": "CF0M98O-PNvI"
      },
      "outputs": [],
      "source": [
        "selected_columns = ['Category (Energy)',\n",
        "                    'Value (Energy)',\n",
        "                    'Unit (Energy)',\n",
        "                    'Notes',\n",
        "                    'Notes 2']\n",
        "energy_df = pd.DataFrame(energy_sheet[selected_columns])\n",
        "energy_df = energy_df[0:100]\n",
        "energy_df.fillna('', inplace=True)\n",
        "energy_df"
      ]
    },
    {
      "cell_type": "code",
      "execution_count": null,
      "metadata": {
        "id": "Jm-WvMdEZs-2"
      },
      "outputs": [],
      "source": [
        "selected_columns = [\n",
        "    'Category (Power)',\n",
        "    'Value (Power)',\n",
        "    'Unit (Power)',\n",
        "    'Notes',\n",
        "    'Notes 2',\n",
        "    'Notes 3',\n",
        "    'Notes 4',\n",
        "    'Notes 5',\n",
        "    'Notes 6',]\n",
        "\n",
        "power_df = pd.DataFrame(power_sheet[selected_columns])\n",
        "power_df.reset_index(drop=True, inplace=True)\n",
        "power_df = power_df[0:204]\n",
        "power_df.fillna('', inplace=True)\n",
        "power_df"
      ]
    },
    {
      "cell_type": "markdown",
      "metadata": {
        "id": "1HtyHhfljHq8"
      },
      "source": [
        "### Change Column Types into categorical, numeric, and string"
      ]
    },
    {
      "cell_type": "code",
      "execution_count": null,
      "metadata": {
        "id": "cxn-4KLejHCb"
      },
      "outputs": [],
      "source": [
        "energy_df['Category (Energy)'] = energy_df['Category (Energy)'].astype('category')\n",
        "energy_df['Value (Energy)'] = pd.to_numeric(energy_df['Value (Energy)'], errors='coerce')\n",
        "energy_df['Unit (Energy)'] = energy_df['Unit (Energy)'].astype(str)\n",
        "\n",
        "print(energy_df.dtypes)"
      ]
    },
    {
      "cell_type": "code",
      "execution_count": null,
      "metadata": {
        "id": "XQQIo6LPjOfF"
      },
      "outputs": [],
      "source": [
        "power_df['Category (Power)'] = power_df['Category (Power)'].astype('category')\n",
        "power_df['Value (Power)'] = pd.to_numeric(power_df['Value (Power)'], errors='coerce')\n",
        "power_df['Unit (Power)'] = power_df['Unit (Power)'].astype(str)\n",
        "\n",
        "print(power_df.dtypes)"
      ]
    },
    {
      "cell_type": "markdown",
      "metadata": {
        "id": "BoLLETgtQXZj"
      },
      "source": [
        "Show full numbers instead of to the power of 10"
      ]
    },
    {
      "cell_type": "code",
      "execution_count": null,
      "metadata": {
        "id": "Adz7erPFQLFs"
      },
      "outputs": [],
      "source": [
        "def format_full(x):\n",
        "    return '{:.2f}'.format(x)\n",
        "\n",
        "pd.options.display.float_format = format_full"
      ]
    },
    {
      "cell_type": "markdown",
      "metadata": {
        "id": "DoovTLDanr8X"
      },
      "source": [
        "### Group Together Parts/Sections of Project"
      ]
    },
    {
      "cell_type": "code",
      "execution_count": null,
      "metadata": {
        "id": "HOMcQ1w9qPy9"
      },
      "outputs": [],
      "source": [
        "energy_storage_blocks = energy_df.iloc[:15]\n",
        "esb_piping = energy_df.iloc[16:47]\n",
        "tin = energy_df.iloc[48:63]\n",
        "insulation_energy = energy_df.iloc[67:78]\n",
        "instrumentation = energy_df.iloc[79:85]\n",
        "controlled_atmosphere_energy = energy_df.iloc[86:88]\n",
        "pumps = energy_df.iloc[89:95]\n",
        "infrastructure= energy_df.iloc[96:97]\n",
        "subtotal = energy_df.iloc[98:99]"
      ]
    },
    {
      "cell_type": "code",
      "execution_count": null,
      "metadata": {
        "id": "4hwfgWsYm6JA"
      },
      "outputs": [],
      "source": [
        "graphite_cavities = power_df.iloc[:13]\n",
        "tungsten_liner = power_df.iloc[14:21]\n",
        "power_block_tin = power_df.iloc[24:39]\n",
        "insulation_power = power_df.iloc[41:54]\n",
        "tpv_cells = power_df.iloc[56:71]\n",
        "tpv_module_integration = power_df.iloc[71:80]\n",
        "tpv_core_cooling = power_df.iloc[81:85]\n",
        "heat_piping = power_df.iloc[87:115]\n",
        "heater_tin = power_df.iloc[117:142]\n",
        "heater_module = power_df.iloc[144:154]\n",
        "heater_insulation = power_df.iloc[156:168]\n",
        "heater_electronics = power_df.iloc[170:176]\n",
        "controlled_atmosphere_power = power_df.iloc[178:181]\n",
        "dry_cooling = power_df.iloc[183:189]\n",
        "inverter = power_df.iloc[191:197]\n",
        "totals = power_df.iloc[198:204]"
      ]
    },
    {
      "cell_type": "markdown",
      "metadata": {
        "id": "txorF8EitYFy"
      },
      "source": [
        "## Energy Variables"
      ]
    },
    {
      "cell_type": "markdown",
      "metadata": {
        "id": "geRd9ilm-fFZ"
      },
      "source": [
        "Followed All The Way Through (AKA DONE) = #"
      ]
    },
    {
      "cell_type": "markdown",
      "metadata": {
        "id": "P-lazTPkwemr"
      },
      "source": [
        "### **Energy Storage Blocks (ESB)**"
      ]
    },
    {
      "cell_type": "code",
      "execution_count": null,
      "metadata": {
        "id": "Ue3jEb8o2Dtt"
      },
      "outputs": [],
      "source": [
        "energy_storage_blocks"
      ]
    },
    {
      "cell_type": "code",
      "execution_count": null,
      "metadata": {
        "id": "MZbcGgw-yYVl"
      },
      "outputs": [],
      "source": [
        "electrical_storage_esb = energy_storage_blocks.iloc[6,1]\n",
        "rte_esb = energy_storage_blocks.iloc[5,1]\n",
        "energy_storage_blocks.iloc[13,1] = electrical_storage_esb / rte_esb\n",
        "thermal_energy_stored_esb = electrical_storage_esb / rte_esb\n",
        "thermal_energy_stored_esb = energy_storage_blocks.iloc[13,1]"
      ]
    },
    {
      "cell_type": "code",
      "execution_count": null,
      "metadata": {
        "id": "NsMRbgFkyYKa"
      },
      "outputs": [],
      "source": [
        "Cp = energy_storage_blocks.iloc[7,1]\n",
        "DT = energy_storage_blocks.iloc[8,1]\n",
        "energy_storage_blocks.iloc[9,1] = DT * Cp\n",
        "energy_density_uncoverted = DT * Cp"
      ]
    },
    {
      "cell_type": "code",
      "execution_count": null,
      "metadata": {
        "id": "RqFyh0T02Tj2"
      },
      "outputs": [],
      "source": [
        "energy_density_uncoverted = energy_storage_blocks.iloc[9,1]\n",
        "density_esb = energy_storage_blocks.iloc[10,1]\n",
        "energy_storage_blocks.iloc[11,1] = density_esb * energy_density_uncoverted\n",
        "energy_density = density_esb * energy_density_uncoverted"
      ]
    },
    {
      "cell_type": "code",
      "execution_count": null,
      "metadata": {
        "id": "RlSvdZnT1MuU"
      },
      "outputs": [],
      "source": [
        "energy_density = energy_storage_blocks.iloc[11,1]\n",
        "energy_storage_blocks.iloc[12,1] = energy_density/3600000\n",
        "kWh_t_m3 = energy_density/3600000"
      ]
    },
    {
      "cell_type": "code",
      "execution_count": null,
      "metadata": {
        "id": "SjzCbUXdyYPN"
      },
      "outputs": [],
      "source": [
        "kWh_t_m3 = energy_storage_blocks.iloc[12,1]\n",
        "energy_storage_blocks.iloc[14,1] = thermal_energy_stored_esb*1000/kWh_t_m3\n",
        "total_volume_esb = thermal_energy_stored_esb*1000/kWh_t_m3\n",
        "total_volume_esb = energy_storage_blocks.iloc[14,1]"
      ]
    },
    {
      "cell_type": "code",
      "execution_count": null,
      "metadata": {
        "id": "C83Q0hBwx2Oz"
      },
      "outputs": [],
      "source": [
        "energy_storage_blocks.iloc[4,1] = thermal_energy_stored_esb * 2\n",
        "esb_cost_per_kg = thermal_energy_stored_esb * 2\n",
        "esb_cost_per_kg = energy_storage_blocks.iloc[4,1]"
      ]
    },
    {
      "cell_type": "code",
      "execution_count": null,
      "metadata": {
        "id": "I_28V1cH3t5d"
      },
      "outputs": [],
      "source": [
        "energy_storage_blocks.iloc[1,1] = density_esb * total_volume_esb\n",
        "total_mass_esb = density_esb * total_volume_esb"
      ]
    },
    {
      "cell_type": "code",
      "execution_count": null,
      "metadata": {
        "id": "sV9Hk59s4dkw"
      },
      "outputs": [],
      "source": [
        "energy_storage_blocks.iloc[3,1] = density_esb"
      ]
    },
    {
      "cell_type": "code",
      "execution_count": null,
      "metadata": {
        "id": "oRV1DL0qw-ez"
      },
      "outputs": [],
      "source": [
        "total_mass_esb = energy_storage_blocks.iloc[1,1]\n",
        "total_volume_esb = energy_storage_blocks.iloc[2,1]\n",
        "energy_storage_blocks.iloc[0,1] = total_mass_esb * esb_cost_per_kg\n",
        "total_esb_cost = total_mass_esb * esb_cost_per_kg\n",
        "total_esb_cost = energy_storage_blocks.iloc[0,1]\n",
        "energy_storage_blocks"
      ]
    },
    {
      "cell_type": "markdown",
      "metadata": {
        "id": "DOzIeEc76NOP"
      },
      "source": [
        "### **ESB Piping**"
      ]
    },
    {
      "cell_type": "code",
      "execution_count": null,
      "metadata": {
        "id": "15o3NJSo6MdE"
      },
      "outputs": [],
      "source": [
        "esb_piping"
      ]
    },
    {
      "cell_type": "code",
      "execution_count": null,
      "metadata": {
        "id": "JXIPhikJdgt5"
      },
      "outputs": [],
      "source": [
        "#These variables were not used in any other calculations besides these for size of block used to make fittings\n",
        "length_of_block = esb_piping.iloc[17,1]\n",
        "fitting_thickness = esb_piping.iloc[18,1]\n",
        "number_of_fittings_per_block_cross_section = esb_piping.iloc[19,1]\n",
        "esb_piping.iloc[20,1] = length_of_block / fitting_thickness\n",
        "number_of_fittings_along_length = length_of_block / fitting_thickness\n",
        "number_of_fittings_along_length = esb_piping.iloc[20,1]"
      ]
    },
    {
      "cell_type": "code",
      "execution_count": null,
      "metadata": {
        "id": "mi5UyGYcRHSk"
      },
      "outputs": [],
      "source": [
        "esb_height = esb_piping.iloc[5,1] #\n",
        "esb_width = esb_piping.iloc[6,1] #\n",
        "esb_length = esb_piping.iloc[7,1] #\n",
        "esb_piping.iloc[8,1] = esb_width * esb_length * esb_height\n",
        "volume_per_block = esb_width * esb_length * esb_height"
      ]
    },
    {
      "cell_type": "code",
      "execution_count": null,
      "metadata": {
        "id": "D30M9mwxNM05"
      },
      "outputs": [],
      "source": [
        "depth_target = esb_piping.iloc[9,1] #\n",
        "esb_piping.iloc[26,1] = round((depth_target/esb_length)*2)\n",
        "number_of_blocks_per_run = round((depth_target/esb_length)*2)\n",
        "volume_per_block = esb_piping.iloc[8,1] #\n",
        "esb_piping.iloc[10,1] = total_volume_esb / volume_per_block\n",
        "total_number_of_blocks = total_volume_esb / volume_per_block"
      ]
    },
    {
      "cell_type": "code",
      "execution_count": null,
      "metadata": {
        "id": "3B51Zo-4MK5R"
      },
      "outputs": [],
      "source": [
        "number_of_blocks_per_run = esb_piping.iloc[26,1] #\n",
        "total_number_of_blocks = esb_piping.iloc[10,1] #\n",
        "esb_piping.iloc[3,1] = total_number_of_blocks / number_of_blocks_per_run\n",
        "number_of_pipe_runs = total_number_of_blocks / number_of_blocks_per_run"
      ]
    },
    {
      "cell_type": "code",
      "execution_count": null,
      "metadata": {
        "id": "Yt78xVJBW7_4"
      },
      "outputs": [],
      "source": [
        "esb_pipe_run_length = depth_target\n",
        "esb_pipe_run_length = esb_piping.iloc[12,1] #\n",
        "esb_pipes_per_pass = esb_piping.iloc[14,1] #\n",
        "esb_pipe_length = esb_piping.iloc[11,1] #\n",
        "esb_piping.iloc[13,1] = round(esb_pipe_run_length * esb_pipes_per_pass / esb_pipe_length)\n",
        "number_of_pipes_per_run = round(esb_pipe_run_length * esb_pipes_per_pass / esb_pipe_length)\n",
        "cost_per_fitting_block = esb_piping.iloc[16,1] #\n",
        "number_of_fittings_per_block = esb_piping.iloc[21,1] #\n",
        "esb_piping.iloc[22,1] = cost_per_fitting_block / number_of_fittings_per_block\n",
        "material_cost_per_fitting = cost_per_fitting_block / number_of_fittings_per_block"
      ]
    },
    {
      "cell_type": "code",
      "execution_count": null,
      "metadata": {
        "id": "kAeKZN3PV_Ui"
      },
      "outputs": [],
      "source": [
        "number_of_pipes_per_run = esb_piping.iloc[13,1] #\n",
        "esb_piping.iloc[15,1] = number_of_pipes_per_run * 2\n",
        "fittings_per_run = number_of_pipes_per_run * 2\n",
        "material_cost_per_fitting = esb_piping.iloc[22,1] #\n",
        "machining_cost_per_fitting = esb_piping.iloc[23,1] #\n",
        "esb_piping.iloc[24,1] = material_cost_per_fitting + machining_cost_per_fitting\n",
        "cost_per_fitting = material_cost_per_fitting + machining_cost_per_fitting\n",
        "esb_piping.iloc[28,1] = esb_pipe_run_length * esb_pipes_per_pass\n",
        "length_of_pipe_per_run = esb_pipe_run_length * esb_pipes_per_pass"
      ]
    },
    {
      "cell_type": "code",
      "execution_count": null,
      "metadata": {
        "id": "zveBFZaXUFY7"
      },
      "outputs": [],
      "source": [
        "cost_per_fitting = esb_piping.iloc[24,1] #\n",
        "fittings_per_run = esb_piping.iloc[15,1] #\n",
        "esb_piping.iloc[25,1] = cost_per_fitting * fittings_per_run\n",
        "cost_of_fittings_per_run = cost_per_fitting * fittings_per_run\n",
        "cost_of_extruded_pipe = esb_piping.iloc[27,1] #\n",
        "length_of_pipe_per_run = esb_piping.iloc[28,1] #\n",
        "esb_piping.iloc[29,1] = cost_of_extruded_pipe * length_of_pipe_per_run\n",
        "cost_of_pipe_per_run = cost_of_extruded_pipe * length_of_pipe_per_run"
      ]
    },
    {
      "cell_type": "code",
      "execution_count": null,
      "metadata": {
        "id": "Ofqfk1JYTI2c"
      },
      "outputs": [],
      "source": [
        "cost_of_pipe_per_run = esb_piping.iloc[29,1] #\n",
        "cost_of_fittings_per_run = esb_piping.iloc[25,1] #\n",
        "esb_piping.iloc[2,1] = cost_of_pipe_per_run + cost_of_fittings_per_run\n",
        "cost_of_pipe_and_fittings_per_run = cost_of_pipe_per_run + cost_of_fittings_per_run"
      ]
    },
    {
      "cell_type": "code",
      "execution_count": null,
      "metadata": {
        "id": "8OvV3o5oLGdO"
      },
      "outputs": [],
      "source": [
        "number_of_pipe_runs = esb_piping.iloc[3,1] #\n",
        "cost_of_pipe_and_fittings_per_run = esb_piping.iloc[2,1] #\n",
        "esb_piping.iloc[1,1] = cost_of_pipe_and_fittings_per_run * number_of_pipe_runs\n",
        "total_esb_piping_cost = cost_of_pipe_and_fittings_per_run * number_of_pipe_runs"
      ]
    },
    {
      "cell_type": "code",
      "execution_count": null,
      "metadata": {
        "id": "ogRWz-PAJgTo"
      },
      "outputs": [],
      "source": [
        "total_esb_piping_cost = esb_piping.iloc[1,1] #\n",
        "total_esb_piping_cost"
      ]
    },
    {
      "cell_type": "code",
      "execution_count": null,
      "metadata": {
        "id": "-bL4nt18fAYr"
      },
      "outputs": [],
      "source": [
        "esb_piping"
      ]
    },
    {
      "cell_type": "markdown",
      "metadata": {
        "id": "nDelBP9DfQmV"
      },
      "source": [
        "### **Tin**"
      ]
    },
    {
      "cell_type": "code",
      "execution_count": null,
      "metadata": {
        "id": "376slYtphBoc"
      },
      "outputs": [],
      "source": [
        "tin"
      ]
    },
    {
      "cell_type": "code",
      "execution_count": null,
      "metadata": {
        "id": "r8m0y7xu0Qz7"
      },
      "outputs": [],
      "source": [
        "tin_weight = tin.iloc[7,1] #\n",
        "tin_height = tin.iloc[6,1] #\n",
        "tin.iloc[8,1] = tin_height * tin_weight\n",
        "block_cross_section = tin_height * tin_weight"
      ]
    },
    {
      "cell_type": "code",
      "execution_count": null,
      "metadata": {
        "id": "8_n_7n59teYm"
      },
      "outputs": [],
      "source": [
        "block_cross_section = tin.iloc[8,1] #\n",
        "pipe_ID = tin.iloc[10,1] #\n",
        "tin.iloc[11,1] = math.pi * (pipe_ID*0.0254) * (pipe_ID*0.0254) / 4\n",
        "pipe_ac = math.pi * (pipe_ID*0.0254) * (pipe_ID*0.0254) / 4\n",
        "tin.iloc[9,1] = block_cross_section * 2\n",
        "unit_cell_graphite_cross_section = block_cross_section * 2"
      ]
    },
    {
      "cell_type": "code",
      "execution_count": null,
      "metadata": {
        "id": "3z4kb6JH0mtC"
      },
      "outputs": [],
      "source": [
        "pipe_ac = tin.iloc[11,1] #\n",
        "unit_cell_graphite_cross_section = tin.iloc[9,1] #\n",
        "tin.iloc[12,1] = 2 * pipe_ac / unit_cell_graphite_cross_section\n",
        "area_ratio = 2 * pipe_ac / unit_cell_graphite_cross_section"
      ]
    },
    {
      "cell_type": "code",
      "execution_count": null,
      "metadata": {
        "id": "Y8LOEXJM0m1p"
      },
      "outputs": [],
      "source": [
        "area_ratio = tin.iloc[12,1] #\n",
        "tin.iloc[13,1] = total_volume_esb * area_ratio\n",
        "tin_volume = total_volume_esb * area_ratio"
      ]
    },
    {
      "cell_type": "code",
      "execution_count": null,
      "metadata": {
        "id": "n4qCiPP20m5G"
      },
      "outputs": [],
      "source": [
        "tin_volume = tin.iloc[13,1] #\n",
        "rho_tin = tin.iloc[14,1] #\n",
        "tin.iloc[2,1] = tin_volume * rho_tin\n",
        "tin_mass_kg = tin_volume * rho_tin"
      ]
    },
    {
      "cell_type": "code",
      "execution_count": null,
      "metadata": {
        "id": "lMl8OrpV0m8P"
      },
      "outputs": [],
      "source": [
        "tin_cost_per_kg = tin.iloc[1,1] #\n",
        "tin_mass_kg = tin.iloc[2,1] #\n",
        "tin.iloc[3,1] = tin_cost_per_kg * tin_mass_kg\n",
        "subtotal_tin_cost = tin_cost_per_kg * tin_mass_kg"
      ]
    },
    {
      "cell_type": "code",
      "execution_count": null,
      "metadata": {
        "id": "uaBw7-Olzkvq"
      },
      "outputs": [],
      "source": [
        "subtotal_tin_cost = tin.iloc[3,1] #\n",
        "ase_buffer_tin = tin.iloc[4,1] #\n",
        "tin.iloc[0,1] = ase_buffer_tin + subtotal_tin_cost\n",
        "total_tin_cost = ase_buffer_tin + subtotal_tin_cost"
      ]
    },
    {
      "cell_type": "code",
      "execution_count": null,
      "metadata": {
        "id": "ia5m6svGfaF4"
      },
      "outputs": [],
      "source": [
        "total_tin_cost = tin.iloc[0,1] #\n",
        "total_tin_cost"
      ]
    },
    {
      "cell_type": "code",
      "execution_count": null,
      "metadata": {
        "id": "GmWZQYPz16HQ"
      },
      "outputs": [],
      "source": [
        "tin"
      ]
    },
    {
      "cell_type": "markdown",
      "metadata": {
        "id": "Iw5U6_dT18kh"
      },
      "source": [
        "### **Insulation (Energy)**"
      ]
    },
    {
      "cell_type": "code",
      "execution_count": null,
      "metadata": {
        "id": "bDC_JO2o2C_p"
      },
      "outputs": [],
      "source": [
        "insulation_energy"
      ]
    },
    {
      "cell_type": "code",
      "execution_count": null,
      "metadata": {
        "id": "-B_df__J9Rpk"
      },
      "outputs": [],
      "source": [
        "height_target = insulation_energy.iloc[2,1] #\n",
        "insulation_energy.iloc[3,1] = esb_cost_per_kg / height_target / depth_target\n",
        "total_length_along_subgroup_breaking_direction = esb_cost_per_kg / height_target / depth_target"
      ]
    },
    {
      "cell_type": "code",
      "execution_count": null,
      "metadata": {
        "id": "E3DnGrwg8OEg"
      },
      "outputs": [],
      "source": [
        "block_thickness = insulation_energy.iloc[7,1]\n",
        "total_length_along_subgroup_breaking_direction = insulation_energy.iloc[3,1] #\n",
        "insulation_energy.iloc[4,1] = 2 * block_thickness + height_target\n",
        "block_height = 2 * block_thickness + height_target\n",
        "insulation_energy.iloc[5,1] = 2 * block_thickness + depth_target\n",
        "block_width = 2 * block_thickness + depth_target\n",
        "insulation_energy.iloc[6,1] = 2 * block_thickness + total_length_along_subgroup_breaking_direction\n",
        "block_length = 2 * block_thickness + total_length_along_subgroup_breaking_direction"
      ]
    },
    {
      "cell_type": "code",
      "execution_count": null,
      "metadata": {
        "id": "G7i-ib6A7Rmi"
      },
      "outputs": [],
      "source": [
        "block_height = insulation_energy.iloc[4,1] #\n",
        "block_width = insulation_energy.iloc[5,1] #\n",
        "block_length = insulation_energy.iloc[6,1] #\n",
        "insulation_energy.iloc[8,1] = block_height * block_width * block_length - esb_cost_per_kg\n",
        "insulation_volume = block_height * block_width * block_length - esb_cost_per_kg"
      ]
    },
    {
      "cell_type": "code",
      "execution_count": null,
      "metadata": {
        "id": "3pBb9_wd2jaM"
      },
      "outputs": [],
      "source": [
        "insulation_volume = insulation_energy.iloc[8,1] #\n",
        "cost_of_insulation_per_m3 = insulation_energy.iloc[9,1] #\n",
        "insulation_energy.iloc[10,1] = insulation_volume * cost_of_insulation_per_m3\n",
        "insulation_subtotal_cost = insulation_volume * cost_of_insulation_per_m3"
      ]
    },
    {
      "cell_type": "code",
      "execution_count": null,
      "metadata": {
        "id": "wgcUxwOo2Zto"
      },
      "outputs": [],
      "source": [
        "insulation_subtotal_cost = insulation_energy.iloc[10,1] #\n",
        "insulation_energy.iloc[0,1] = insulation_subtotal_cost\n",
        "total_insulation_energy_cost = insulation_subtotal_cost\n",
        "total_insulation_energy_cost = insulation_energy.iloc[0,1] #\n",
        "total_insulation_energy_cost"
      ]
    },
    {
      "cell_type": "code",
      "execution_count": null,
      "metadata": {
        "id": "qGETXxM-_pcR"
      },
      "outputs": [],
      "source": [
        "insulation_energy"
      ]
    },
    {
      "cell_type": "markdown",
      "metadata": {
        "id": "8-zcAkiX-oH-"
      },
      "source": [
        "### **Instrumentation**"
      ]
    },
    {
      "cell_type": "code",
      "execution_count": null,
      "metadata": {
        "id": "nspa0Xi7-6Vv"
      },
      "outputs": [],
      "source": [
        "instrumentation"
      ]
    },
    {
      "cell_type": "code",
      "execution_count": null,
      "metadata": {
        "id": "RZf-NujH_Rqm"
      },
      "outputs": [],
      "source": [
        "number_of_pyrometers = instrumentation.iloc[3,1] #\n",
        "cost_per_pyrometer = instrumentation.iloc[2,1] #\n",
        "instrumentation.iloc[4,1] = cost_per_pyrometer * number_of_pyrometers\n",
        "cost_of_pyrometers = cost_per_pyrometer * number_of_pyrometers\n",
        "instrumentation.iloc[5,1] = instrumentation.iloc[4,1]"
      ]
    },
    {
      "cell_type": "code",
      "execution_count": null,
      "metadata": {
        "id": "Z25sz_QX_Bct"
      },
      "outputs": [],
      "source": [
        "cost_of_other_instrumentation_buffer = instrumentation.iloc[5,1] #\n",
        "cost_of_pyrometers = instrumentation.iloc[4,1] #\n",
        "instrumentation.iloc[0,1] = cost_of_pyrometers + cost_of_other_instrumentation_buffer\n",
        "total_instrumentation_cost = cost_of_pyrometers + cost_of_other_instrumentation_buffer"
      ]
    },
    {
      "cell_type": "code",
      "execution_count": null,
      "metadata": {
        "id": "WkgKpcJR-r5h"
      },
      "outputs": [],
      "source": [
        "total_instrumentation_cost = instrumentation.iloc[0,1] #\n",
        "total_instrumentation_cost"
      ]
    },
    {
      "cell_type": "code",
      "execution_count": null,
      "metadata": {
        "id": "A8L-o6QtABpT"
      },
      "outputs": [],
      "source": [
        "instrumentation"
      ]
    },
    {
      "cell_type": "markdown",
      "metadata": {
        "id": "bX-uoauNADaB"
      },
      "source": [
        "### **Controlled Atmostphere**"
      ]
    },
    {
      "cell_type": "code",
      "execution_count": null,
      "metadata": {
        "id": "osDcSdVTALEQ"
      },
      "outputs": [],
      "source": [
        "controlled_atmosphere_energy"
      ]
    },
    {
      "cell_type": "code",
      "execution_count": null,
      "metadata": {
        "id": "xkqLgPtjANAs"
      },
      "outputs": [],
      "source": [
        "total_controlled_atmosphere_energy_cost = controlled_atmosphere_energy.iloc[0,1]\n",
        "total_controlled_atmosphere_energy_cost"
      ]
    },
    {
      "cell_type": "code",
      "execution_count": null,
      "metadata": {
        "id": "m7YXb9nXAZ4g"
      },
      "outputs": [],
      "source": [
        "controlled_atmosphere_energy"
      ]
    },
    {
      "cell_type": "markdown",
      "metadata": {
        "id": "P5FK6VzPAhP7"
      },
      "source": [
        "### **Pumps**"
      ]
    },
    {
      "cell_type": "code",
      "execution_count": null,
      "metadata": {
        "id": "zPDTn2yRAgbS"
      },
      "outputs": [],
      "source": [
        "pumps"
      ]
    },
    {
      "cell_type": "code",
      "execution_count": null,
      "metadata": {
        "id": "dYs8V_lBBBnI"
      },
      "outputs": [],
      "source": [
        "number_of_pumps = pumps.iloc[3,1] #\n",
        "cost_of_a_pump = pumps.iloc[2,1] #\n",
        "pumps.iloc[4,1] = cost_of_a_pump * number_of_pumps\n",
        "pump_cost = cost_of_a_pump * number_of_pumps"
      ]
    },
    {
      "cell_type": "code",
      "execution_count": null,
      "metadata": {
        "id": "OhE7-hseAriU"
      },
      "outputs": [],
      "source": [
        "pump_cost = pumps.iloc[4,1] #\n",
        "ase_buffer_pumps = pumps.iloc[5,1] #\n",
        "pumps.iloc[0,1] = pump_cost + ase_buffer_pumps\n",
        "total_pumps_cost = pump_cost + ase_buffer_pumps"
      ]
    },
    {
      "cell_type": "code",
      "execution_count": null,
      "metadata": {
        "id": "HarvQJ9FAmTZ"
      },
      "outputs": [],
      "source": [
        "total_pumps_cost = pumps.iloc[0,1] #\n",
        "total_pumps_cost"
      ]
    },
    {
      "cell_type": "code",
      "execution_count": null,
      "metadata": {
        "id": "BBDiEz4KBUwA"
      },
      "outputs": [],
      "source": [
        "pumps"
      ]
    },
    {
      "cell_type": "markdown",
      "metadata": {
        "id": "5zur_zV5BV8w"
      },
      "source": [
        "### **Infrastructure**"
      ]
    },
    {
      "cell_type": "code",
      "execution_count": null,
      "metadata": {
        "id": "Ax0Isa1sBabb"
      },
      "outputs": [],
      "source": [
        "infrastructure"
      ]
    },
    {
      "cell_type": "code",
      "execution_count": null,
      "metadata": {
        "id": "HMocjYySCj05"
      },
      "outputs": [],
      "source": [
        "total_infrastructure_cost = infrastructure.iloc[0,1]\n",
        "total_infrastructure_cost"
      ]
    },
    {
      "cell_type": "code",
      "execution_count": null,
      "metadata": {
        "id": "j_0V0iAnCr-A"
      },
      "outputs": [],
      "source": [
        "infrastructure"
      ]
    },
    {
      "cell_type": "markdown",
      "metadata": {
        "id": "mwjP6t-zCt06"
      },
      "source": [
        "### **Energy Total Cost (Subtotal of Overall Cost)**"
      ]
    },
    {
      "cell_type": "code",
      "execution_count": null,
      "metadata": {
        "id": "HyqDNz1zC4_i"
      },
      "outputs": [],
      "source": [
        "energy_total_cost = total_esb_cost + total_esb_piping_cost + total_tin_cost + total_insulation_energy_cost + total_instrumentation_cost + total_controlled_atmosphere_energy_cost + total_pumps_cost + total_infrastructure_cost\n",
        "energy_total_cost = round(energy_total_cost, 2)\n",
        "energy_total_cost"
      ]
    },
    {
      "cell_type": "markdown",
      "metadata": {
        "id": "k4gR_B7jEBgg"
      },
      "source": [
        "## Power Variables"
      ]
    },
    {
      "cell_type": "markdown",
      "metadata": {
        "id": "ALq5MfmJEEjU"
      },
      "source": [
        "### **Graphite Cavities**"
      ]
    },
    {
      "cell_type": "code",
      "execution_count": null,
      "metadata": {
        "id": "z7x1EVKQlUQe"
      },
      "outputs": [],
      "source": [
        "graphite_cavities"
      ]
    },
    {
      "cell_type": "code",
      "execution_count": null,
      "metadata": {
        "id": "G5SB7k2j80pf"
      },
      "outputs": [],
      "source": [
        "cavity_power_output = graphite_cavities.iloc[10,1] #\n",
        "electrical_power_output = graphite_cavities.iloc[3,1] #\n",
        "graphite_cavities.iloc[2,1] = electrical_power_output * 1000000 / cavity_power_output\n",
        "number_of_sticks = electrical_power_output * 1000000 / cavity_power_output\n",
        "number_of_sticks = graphite_cavities.iloc[2,1] #"
      ]
    },
    {
      "cell_type": "code",
      "execution_count": null,
      "metadata": {
        "id": "FVap1brfnpC-"
      },
      "outputs": [],
      "source": [
        "fitting_block_width = graphite_cavities.iloc[5,1] #\n",
        "panel_thickness = graphite_cavities.iloc[6,1] #\n",
        "graphite_cavities.iloc[7,1] = fitting_block_width / panel_thickness\n",
        "number_of_panels_per_block = fitting_block_width / panel_thickness"
      ]
    },
    {
      "cell_type": "code",
      "execution_count": null,
      "metadata": {
        "id": "q5sLJ1b2nE8s"
      },
      "outputs": [],
      "source": [
        "number_of_panels_per_block = graphite_cavities.iloc[7,1] #\n",
        "cost_of_fitting_block = graphite_cavities.iloc[4,1] #\n",
        "graphite_cavities.iloc[8,1] = cost_of_fitting_block / number_of_panels_per_block * 4 * 2\n",
        "cost_of_graphite_cavity_material = cost_of_fitting_block / number_of_panels_per_block * 4 * 2"
      ]
    },
    {
      "cell_type": "code",
      "execution_count": null,
      "metadata": {
        "id": "lthRyCnamGNK"
      },
      "outputs": [],
      "source": [
        "cost_of_graphite_cavity_material = graphite_cavities.iloc[8,1] #\n",
        "machining_cost_of_graphite_cavity = graphite_cavities.iloc[9,1] #\n",
        "graphite_cavities.iloc[1,1] = cost_of_graphite_cavity_material + machining_cost_of_graphite_cavity\n",
        "cost_per_graphite_cavity = cost_of_graphite_cavity_material + machining_cost_of_graphite_cavity"
      ]
    },
    {
      "cell_type": "code",
      "execution_count": null,
      "metadata": {
        "id": "7gyRubl2lj3l"
      },
      "outputs": [],
      "source": [
        "cost_per_graphite_cavity = graphite_cavities.iloc[1,1] #\n",
        "ase_buffer_graphite_cavities = graphite_cavities.iloc[12,1] #\n",
        "graphite_cavities.iloc[0,1] = cost_per_graphite_cavity * 3 + ase_buffer_graphite_cavities\n",
        "total_graphite_cavities_cost = cost_per_graphite_cavity * 3 + ase_buffer_graphite_cavities"
      ]
    },
    {
      "cell_type": "code",
      "execution_count": null,
      "metadata": {
        "id": "JKWizOUOEKyy"
      },
      "outputs": [],
      "source": [
        "total_graphite_cavities_cost = graphite_cavities.iloc[0,1] #\n",
        "total_graphite_cavities_cost"
      ]
    },
    {
      "cell_type": "code",
      "execution_count": null,
      "metadata": {
        "id": "1hRd3Fz59v-7"
      },
      "outputs": [],
      "source": [
        "graphite_cavities"
      ]
    },
    {
      "cell_type": "markdown",
      "metadata": {
        "id": "zOli5PlW93xq"
      },
      "source": [
        "### **Tungsten Liner**"
      ]
    },
    {
      "cell_type": "code",
      "execution_count": null,
      "metadata": {
        "id": "pu_1U6Um967p"
      },
      "outputs": [],
      "source": [
        "tungsten_liner"
      ]
    },
    {
      "cell_type": "code",
      "execution_count": null,
      "metadata": {
        "id": "BjZXE5QH-yPV"
      },
      "outputs": [],
      "source": [
        "tungsten_liner_cost_per_square_meter = tungsten_liner.iloc[2,1] #\n",
        "cavity_area = tungsten_liner.iloc[3,1] #\n",
        "tungsten_liner.iloc[4,1] = tungsten_liner_cost_per_square_meter * cavity_area\n",
        "tungsten_liner_cost = tungsten_liner_cost_per_square_meter * cavity_area"
      ]
    },
    {
      "cell_type": "code",
      "execution_count": null,
      "metadata": {
        "id": "5528c8Ra-IsG"
      },
      "outputs": [],
      "source": [
        "tungsten_liner_cost = tungsten_liner.iloc[4,1] #\n",
        "ase_buffer_tungsten_liner = tungsten_liner.iloc[6,1] #\n",
        "tungsten_liner.iloc[0,1] = number_of_sticks * tungsten_liner_cost + ase_buffer_tungsten_liner\n",
        "total_tungsten_liner_cost = number_of_sticks * tungsten_liner_cost + ase_buffer_tungsten_liner"
      ]
    },
    {
      "cell_type": "code",
      "execution_count": null,
      "metadata": {
        "id": "nwTvkEgc-hDW"
      },
      "outputs": [],
      "source": [
        "total_tungsten_liner_cost = tungsten_liner.iloc[0,1] #\n",
        "total_tungsten_liner_cost"
      ]
    },
    {
      "cell_type": "code",
      "execution_count": null,
      "metadata": {
        "id": "puF04YrS_tXk"
      },
      "outputs": [],
      "source": [
        "tungsten_liner"
      ]
    },
    {
      "cell_type": "markdown",
      "metadata": {
        "id": "MfUmy1qc_6Mx"
      },
      "source": [
        "### **Power Block Tin**"
      ]
    },
    {
      "cell_type": "code",
      "execution_count": null,
      "metadata": {
        "id": "nlDvH2rm_9gI"
      },
      "outputs": [],
      "source": [
        "power_block_tin"
      ]
    },
    {
      "cell_type": "code",
      "execution_count": null,
      "metadata": {
        "id": "ihEMIvVyDYzG"
      },
      "outputs": [],
      "source": [
        "power_block_width = power_block_tin.iloc[5,1] #\n",
        "power_block_tin.iloc[7,1] = power_block_width\n",
        "tin_width = power_block_width"
      ]
    },
    {
      "cell_type": "code",
      "execution_count": null,
      "metadata": {
        "id": "Fa5EJSF6C1bd"
      },
      "outputs": [],
      "source": [
        "tin_width = power_block_tin.iloc[7,1] #\n",
        "tin_thickness = power_block_tin.iloc[6,1] #\n",
        "power_block_tin.iloc[8,1] = tin_width * tin_thickness\n",
        "tin_channel_ac = tin_width * tin_thickness"
      ]
    },
    {
      "cell_type": "code",
      "execution_count": null,
      "metadata": {
        "id": "JtALMQtdCOsQ"
      },
      "outputs": [],
      "source": [
        "tin_channel_ac = power_block_tin.iloc[8,1] #\n",
        "cavity_length = power_block_tin.iloc[9,1] #\n",
        "power_block_tin.iloc[10,1] = 4 * tin_channel_ac * cavity_length\n",
        "power_block_tin_volume = 4 * tin_channel_ac * cavity_length"
      ]
    },
    {
      "cell_type": "code",
      "execution_count": null,
      "metadata": {
        "id": "1GYWxIcIBMyl"
      },
      "outputs": [],
      "source": [
        "power_block_tin_volume = power_block_tin.iloc[10,1] #\n",
        "power_block_tin.iloc[11,1] = power_block_tin_volume * rho_tin\n",
        "power_block_tin_mass = power_block_tin_volume * rho_tin"
      ]
    },
    {
      "cell_type": "code",
      "execution_count": null,
      "metadata": {
        "id": "Vj16MX0cAmml"
      },
      "outputs": [],
      "source": [
        "power_block_tin_mass = power_block_tin.iloc[11,1] #\n",
        "power_block_tin.iloc[12,1] = tin_cost_per_kg * power_block_tin_mass\n",
        "subtotal_power_block_tin_cost = tin_cost_per_kg * power_block_tin_mass"
      ]
    },
    {
      "cell_type": "code",
      "execution_count": null,
      "metadata": {
        "id": "9-1U5J4bAJo9"
      },
      "outputs": [],
      "source": [
        "ase_buffer_power_block_tin = power_block_tin.iloc[14,1] #\n",
        "subtotal_power_block_tin_cost = power_block_tin.iloc[12,1] #\n",
        "power_block_tin.iloc[0,1] = subtotal_power_block_tin_cost + ase_buffer_power_block_tin\n",
        "total_power_block_tin_cost = subtotal_power_block_tin_cost + ase_buffer_power_block_tin"
      ]
    },
    {
      "cell_type": "code",
      "execution_count": null,
      "metadata": {
        "id": "vODXtg_a__77"
      },
      "outputs": [],
      "source": [
        "total_power_block_tin_cost = power_block_tin.iloc[0,1] #\n",
        "total_power_block_tin_cost"
      ]
    },
    {
      "cell_type": "code",
      "execution_count": null,
      "metadata": {
        "id": "St2bW6idFBWv"
      },
      "outputs": [],
      "source": [
        "power_block_tin"
      ]
    },
    {
      "cell_type": "markdown",
      "metadata": {
        "id": "MsAtO0hfF2mN"
      },
      "source": [
        "### **Insulation (Power)**"
      ]
    },
    {
      "cell_type": "code",
      "execution_count": null,
      "metadata": {
        "id": "J-YWxHKwHTKe"
      },
      "outputs": [],
      "source": [
        "insulation_power"
      ]
    },
    {
      "cell_type": "code",
      "execution_count": null,
      "metadata": {
        "id": "kItBSyNZME85"
      },
      "outputs": [],
      "source": [
        "carbon_insulation_thickness = insulation_power.iloc[7,1] #\n",
        "insulation_power.iloc[4,1] = power_block_width * number_of_sticks\n",
        "tpv_power_block_length = power_block_width * number_of_sticks\n",
        "insulation_power.iloc[6,1] = cavity_length\n",
        "tpv_power_block_height = cavity_length\n",
        "insulation_power.iloc[8,1] = insulation_power.iloc[4,1] + 2 * carbon_insulation_thickness\n",
        "insulation_outer_length = insulation_power.iloc[4,1] + 2 * carbon_insulation_thickness\n",
        "insulation_power.iloc[9,1] = insulation_power.iloc[5,1] + 2 * carbon_insulation_thickness\n",
        "insulation_outer_width = insulation_power.iloc[5,1] + 2 * carbon_insulation_thickness\n",
        "insulation_power.iloc[10,1] = insulation_power.iloc[6,1] + 2 * carbon_insulation_thickness\n",
        "insulation_outer_height = insulation_power.iloc[6,1] + 2 * carbon_insulation_thickness"
      ]
    },
    {
      "cell_type": "code",
      "execution_count": null,
      "metadata": {
        "id": "rdAbWmM5KqGS"
      },
      "outputs": [],
      "source": [
        "tpv_power_block_width = insulation_power.iloc[5,1] #\n",
        "tpv_power_block_length = insulation_power.iloc[4,1] #\n",
        "tpv_power_block_height = insulation_power.iloc[6,1] #\n",
        "insulation_outer_width = insulation_power.iloc[9,1] #\n",
        "insulation_outer_length = insulation_power.iloc[8,1] #\n",
        "insulation_outer_height = insulation_power.iloc[10,1] #\n",
        "insulation_power.iloc[11,1] = insulation_outer_width * insulation_outer_length * insulation_outer_height - tpv_power_block_width * tpv_power_block_length * tpv_power_block_height\n",
        "volume_of_insulation = insulation_outer_width * insulation_outer_length * insulation_outer_height - tpv_power_block_width * tpv_power_block_length * tpv_power_block_height"
      ]
    },
    {
      "cell_type": "code",
      "execution_count": null,
      "metadata": {
        "id": "J9UN4hP6H-VV"
      },
      "outputs": [],
      "source": [
        "volume_of_insulation = insulation_power.iloc[11,1] #\n",
        "insulation_power.iloc[12,1] = cost_of_insulation_per_m3 * volume_of_insulation\n",
        "subtotal_power_block_insulation = cost_of_insulation_per_m3 * volume_of_insulation"
      ]
    },
    {
      "cell_type": "code",
      "execution_count": null,
      "metadata": {
        "id": "DdZELIe4HtMq"
      },
      "outputs": [],
      "source": [
        "subtotal_power_block_insulation = insulation_power.iloc[12,1] #\n",
        "insulation_power.iloc[0,1] = subtotal_power_block_insulation\n",
        "total_power_block_insulation_cost = subtotal_power_block_insulation"
      ]
    },
    {
      "cell_type": "code",
      "execution_count": null,
      "metadata": {
        "id": "MrFjOurQHXhv"
      },
      "outputs": [],
      "source": [
        "total_power_block_insulation_cost = insulation_power.iloc[0,1] #\n",
        "total_power_block_insulation_cost"
      ]
    },
    {
      "cell_type": "code",
      "execution_count": null,
      "metadata": {
        "id": "q4sBTzWlN9Qw"
      },
      "outputs": [],
      "source": [
        "insulation_power"
      ]
    },
    {
      "cell_type": "markdown",
      "metadata": {
        "id": "j8wpwnNmOACl"
      },
      "source": [
        "### **TPV Cells**"
      ]
    },
    {
      "cell_type": "code",
      "execution_count": null,
      "metadata": {
        "id": "p_15MARbN_as"
      },
      "outputs": [],
      "source": [
        "tpv_cells"
      ]
    },
    {
      "cell_type": "code",
      "execution_count": null,
      "metadata": {
        "id": "SD9mHLyBSI24"
      },
      "outputs": [],
      "source": [
        "MOCVD_cost = tpv_cells.iloc[7,1] #\n",
        "MOCVD_cost_relative_to_subtrate_cost = tpv_cells.iloc[6,1] #\n",
        "tpv_engineering_salary_factor = tpv_cells.iloc[1,1] #"
      ]
    },
    {
      "cell_type": "code",
      "execution_count": null,
      "metadata": {
        "id": "SXgPJRjpQHhW"
      },
      "outputs": [],
      "source": [
        "module_length = tpv_cells.iloc[8,1] #\n",
        "module_width = tpv_cells.iloc[9,1] #\n",
        "tpv_cells.iloc[10,1] = module_length * module_width\n",
        "module_area = module_length * module_width\n",
        "tpv_cells.iloc[12,1] = module_width * 3 * 4\n",
        "tpv_area = module_width * 3 * 4"
      ]
    },
    {
      "cell_type": "code",
      "execution_count": null,
      "metadata": {
        "id": "6RI_4OpJO2Q6"
      },
      "outputs": [],
      "source": [
        "tpv_device_cost = tpv_cells.iloc[5,1] #\n",
        "module_area = tpv_cells.iloc[10,1] #\n",
        "tpv_area = tpv_cells.iloc[12,1] #\n",
        "tpv_cells.iloc[3,1] = tpv_device_cost * module_area\n",
        "tpv_cell_cost_per_module = tpv_device_cost * module_area\n",
        "tpv_cells.iloc[11,1] = math.ceil(tpv_area / module_area)\n",
        "modules_per_stick = math.ceil(tpv_area / module_area)"
      ]
    },
    {
      "cell_type": "code",
      "execution_count": null,
      "metadata": {
        "id": "Og9K2woiOV-s"
      },
      "outputs": [],
      "source": [
        "ase_buffer_tpv_cells = tpv_cells.iloc[14,1] #\n",
        "modules_per_stick = tpv_cells.iloc[11,1] #\n",
        "tpv_cell_cost_per_module = tpv_cells.iloc[3,1] #\n",
        "tpv_cells.iloc[0,1] = tpv_cell_cost_per_module * modules_per_stick + ase_buffer_tpv_cells\n",
        "total_tpv_cells_cost = tpv_cell_cost_per_module * modules_per_stick + ase_buffer_tpv_cells"
      ]
    },
    {
      "cell_type": "code",
      "execution_count": null,
      "metadata": {
        "id": "xPyGDMF7ONxl"
      },
      "outputs": [],
      "source": [
        "total_tpv_cells_cost = tpv_cells.iloc[0,1] #\n",
        "total_tpv_cells_cost"
      ]
    },
    {
      "cell_type": "code",
      "execution_count": null,
      "metadata": {
        "id": "R6i_IbwEKYXp"
      },
      "outputs": [],
      "source": [
        "tpv_cells"
      ]
    },
    {
      "cell_type": "markdown",
      "metadata": {
        "id": "oLcgtbbZLEAu"
      },
      "source": [
        "### **TPV Module Integration**"
      ]
    },
    {
      "cell_type": "code",
      "execution_count": null,
      "metadata": {
        "id": "Dk10SemJKbOC"
      },
      "outputs": [],
      "source": [
        "tpv_module_integration"
      ]
    },
    {
      "cell_type": "code",
      "execution_count": null,
      "metadata": {
        "id": "F52sKQYcLd-j"
      },
      "outputs": [],
      "source": [
        "module_fabrication_cost = tpv_module_integration.iloc[6,1]\n",
        "carrier_cost = tpv_module_integration.iloc[5,1]\n",
        "tpv_module_integration.iloc[0,1] = (carrier_cost + module_fabrication_cost) * modules_per_stick\n",
        "total_tpv_module_integration_cost = (carrier_cost + module_fabrication_cost) * modules_per_stick"
      ]
    },
    {
      "cell_type": "code",
      "execution_count": null,
      "metadata": {
        "id": "wXBQor5bLT4K"
      },
      "outputs": [],
      "source": [
        "total_tpv_module_integration_cost = tpv_module_integration.iloc[0,1]\n",
        "total_tpv_module_integration_cost"
      ]
    },
    {
      "cell_type": "code",
      "execution_count": null,
      "metadata": {
        "id": "GM4FYFhoMHK2"
      },
      "outputs": [],
      "source": [
        "tpv_module_integration"
      ]
    },
    {
      "cell_type": "markdown",
      "metadata": {
        "id": "RcORZZZ3MKfI"
      },
      "source": [
        "### **TPV Core Cooling**"
      ]
    },
    {
      "cell_type": "code",
      "execution_count": null,
      "metadata": {
        "id": "PSbs-xfXMJxc"
      },
      "outputs": [],
      "source": [
        "tpv_core_cooling"
      ]
    },
    {
      "cell_type": "code",
      "execution_count": null,
      "metadata": {
        "id": "p7HK3hcpMaf_"
      },
      "outputs": [],
      "source": [
        "tpv_core_cost = tpv_core_cooling.iloc[2,1]\n",
        "ase_buffer_tpv_core_cooling = tpv_core_cooling.iloc[3,1]\n",
        "tpv_core_cooling.iloc[0,1] = ase_buffer_tpv_core_cooling + tpv_core_cost\n",
        "total_tpv_core_cooling_cost = ase_buffer_tpv_core_cooling + tpv_core_cost"
      ]
    },
    {
      "cell_type": "code",
      "execution_count": null,
      "metadata": {
        "id": "Ax3ABwObMRRj"
      },
      "outputs": [],
      "source": [
        "total_tpv_core_cooling_cost = tpv_core_cooling.iloc[0,1]\n",
        "total_tpv_core_cooling_cost"
      ]
    },
    {
      "cell_type": "code",
      "execution_count": null,
      "metadata": {
        "id": "sl80zLdRMqWD"
      },
      "outputs": [],
      "source": [
        "tpv_core_cooling"
      ]
    },
    {
      "cell_type": "markdown",
      "metadata": {
        "id": "ZNuccLdzMsEi"
      },
      "source": [
        "### **Heat Piping**"
      ]
    },
    {
      "cell_type": "code",
      "execution_count": null,
      "metadata": {
        "id": "072-za7NMvci"
      },
      "outputs": [],
      "source": [
        "heat_piping"
      ]
    },
    {
      "cell_type": "code",
      "execution_count": null,
      "metadata": {
        "id": "iDW6Qa7Fts0I"
      },
      "outputs": [],
      "source": [
        "section_length = heat_piping.iloc[19,1] #"
      ]
    },
    {
      "cell_type": "code",
      "execution_count": null,
      "metadata": {
        "id": "4abVvk53r1zc"
      },
      "outputs": [],
      "source": [
        "number_of_elements_per_heater = heat_piping.iloc[16,1] #\n",
        "pipe_width = heat_piping.iloc[14,1] #\n",
        "charging_rate = heat_piping.iloc[2,1] #\n",
        "power_rating_of_heater = heat_piping.iloc[15,1] #\n",
        "heat_piping.iloc[17,1] = number_of_elements_per_heater * pipe_width\n",
        "heater_total_width = number_of_elements_per_heater * pipe_width\n",
        "heat_piping.iloc[18,1] = math.ceil(charging_rate / (power_rating_of_heater * 2))\n",
        "number_of_heater_sections = math.ceil(charging_rate / (power_rating_of_heater * 2))\n",
        "heat_piping.iloc[20,1] = math.ceil(section_length / number_of_elements_per_heater) #round(section_length / number_of_elements_per_heater, 0)\n",
        "number_of_sections_per_run = math.ceil(section_length / number_of_elements_per_heater)"
      ]
    },
    {
      "cell_type": "code",
      "execution_count": null,
      "metadata": {
        "id": "_Jk-AUfuQp-2"
      },
      "outputs": [],
      "source": [
        "heater_total_width = heat_piping.iloc[17,1] #\n",
        "number_of_heater_sections = heat_piping.iloc[18,1] #\n",
        "number_of_sections_per_run = heat_piping.iloc[20,1] #\n",
        "fitting_diameter = heat_piping.iloc[23,1] #\n",
        "pipe_height = heat_piping.iloc[13,1] #\n",
        "heat_piping.iloc[19,1] = heater_total_width * number_of_heater_sections\n",
        "section_length = heater_total_width * number_of_heater_sections\n",
        "heat_piping.iloc[21,1] = round(number_of_heater_sections / number_of_sections_per_run)\n",
        "number_of_rows = round(number_of_heater_sections / number_of_sections_per_run)\n",
        "heat_piping.iloc[22,1] = round(pipe_height / fitting_diameter / 2)\n",
        "number_of_pipes_stacked = round(pipe_height / fitting_diameter / 2)\n",
        "section_length = heat_piping.iloc[19,1]"
      ]
    },
    {
      "cell_type": "code",
      "execution_count": null,
      "metadata": {
        "id": "7VAcqQLvOEEi"
      },
      "outputs": [],
      "source": [
        "number_of_rows = heat_piping.iloc[21,1] #\n",
        "number_of_pipes_stacked = heat_piping.iloc[22,1] #\n",
        "heat_piping.iloc[24,1] = section_length * number_of_rows * number_of_pipes_stacked\n",
        "total_pipe_length = section_length * number_of_rows * number_of_pipes_stacked"
      ]
    },
    {
      "cell_type": "code",
      "execution_count": null,
      "metadata": {
        "id": "RE7HpsXnNwm2"
      },
      "outputs": [],
      "source": [
        "total_number_of_fittings = heat_piping.iloc[25,1] #\n",
        "total_pipe_length = heat_piping.iloc[24,1] #\n",
        "heat_piping.iloc[26,1] = cost_of_extruded_pipe * total_pipe_length\n",
        "cost_of_pipe = cost_of_extruded_pipe * total_pipe_length\n",
        "heat_piping.iloc[27,1] = cost_per_fitting * total_number_of_fittings\n",
        "cost_of_fittings = cost_per_fitting * total_number_of_fittings"
      ]
    },
    {
      "cell_type": "code",
      "execution_count": null,
      "metadata": {
        "id": "VUWuMBZENHeC"
      },
      "outputs": [],
      "source": [
        "cost_of_fittings = heat_piping.iloc[27,1] #\n",
        "cost_of_pipe = heat_piping.iloc[26,1] #\n",
        "heat_piping.iloc[0,1] = cost_of_pipe + cost_of_fittings * 3\n",
        "total_heat_piping_cost = cost_of_pipe + cost_of_fittings * 3"
      ]
    },
    {
      "cell_type": "markdown",
      "metadata": {
        "id": "jqs-3ddXNUvC"
      },
      "source": [
        "Cost will be tripled according to Sandeep, but do not know if only fittings cost will be tripled or pipe cost as well. If both, change above formula to have cost of pipe and fittings in parenthesis to triple both these costs."
      ]
    },
    {
      "cell_type": "code",
      "execution_count": null,
      "metadata": {
        "id": "Ub05FYFfM0RT"
      },
      "outputs": [],
      "source": [
        "total_heat_piping_cost = heat_piping.iloc[0,1] #\n",
        "total_heat_piping_cost"
      ]
    },
    {
      "cell_type": "code",
      "execution_count": null,
      "metadata": {
        "id": "QEeAeG9Hxg5h"
      },
      "outputs": [],
      "source": [
        "heat_piping"
      ]
    },
    {
      "cell_type": "markdown",
      "metadata": {
        "id": "6xJTd64wyBHZ"
      },
      "source": [
        "### **Heater Tin**"
      ]
    },
    {
      "cell_type": "code",
      "execution_count": null,
      "metadata": {
        "id": "mESrB5GZyGxS"
      },
      "outputs": [],
      "source": [
        "heater_tin"
      ]
    },
    {
      "cell_type": "code",
      "execution_count": null,
      "metadata": {
        "id": "Iwla_KeKzbCm"
      },
      "outputs": [],
      "source": [
        "heater_tin.iloc[20,1] = pipe_ac * total_pipe_length\n",
        "tin_volume_in_heater = pipe_ac * total_pipe_length"
      ]
    },
    {
      "cell_type": "code",
      "execution_count": null,
      "metadata": {
        "id": "X8oBeYbbzbAp"
      },
      "outputs": [],
      "source": [
        "tin_volume_in_heater = heater_tin.iloc[20,1] #\n",
        "heater_tin.iloc[21,1] = rho_tin * tin_volume_in_heater\n",
        "tin_mass_in_heater = rho_tin * tin_volume_in_heater"
      ]
    },
    {
      "cell_type": "code",
      "execution_count": null,
      "metadata": {
        "id": "yv-u3URYza-L"
      },
      "outputs": [],
      "source": [
        "tin_mass_in_heater = heater_tin.iloc[21,1] #\n",
        "heater_tin.iloc[22,1] = tin_cost_per_kg * tin_mass_in_heater\n",
        "subtotal_cost_of_tin = tin_cost_per_kg * tin_mass_in_heater"
      ]
    },
    {
      "cell_type": "code",
      "execution_count": null,
      "metadata": {
        "id": "cbDI5es5za6q"
      },
      "outputs": [],
      "source": [
        "subtotal_cost_of_tin =  heater_tin.iloc[22,1] #\n",
        "ase_buffer_heater_tin = heater_tin.iloc[24,1] #\n",
        "heater_tin.iloc[0,1] = subtotal_cost_of_tin + ase_buffer_heater_tin\n",
        "total_heater_tin_cost = subtotal_cost_of_tin + ase_buffer_heater_tin"
      ]
    },
    {
      "cell_type": "code",
      "execution_count": null,
      "metadata": {
        "id": "HH3EKuknzOGw"
      },
      "outputs": [],
      "source": [
        "total_heater_tin_cost = heater_tin.iloc[0,1] #\n",
        "total_heater_tin_cost"
      ]
    },
    {
      "cell_type": "markdown",
      "metadata": {
        "id": "BStZfo0A00zx"
      },
      "source": [
        "### **Heater Module**"
      ]
    },
    {
      "cell_type": "code",
      "execution_count": null,
      "metadata": {
        "id": "_-u_Q3tI07la"
      },
      "outputs": [],
      "source": [
        "heater_module"
      ]
    },
    {
      "cell_type": "code",
      "execution_count": null,
      "metadata": {
        "id": "42dSalcm2TpT"
      },
      "outputs": [],
      "source": [
        "individual_tungsten_lead_cost = heater_module.iloc[6,1] #\n",
        "heater_module.iloc[5,1] = individual_tungsten_lead_cost * 2\n",
        "tungsten_lead_cost = individual_tungsten_lead_cost * 2"
      ]
    },
    {
      "cell_type": "code",
      "execution_count": null,
      "metadata": {
        "id": "__tlZVrU2Anh"
      },
      "outputs": [],
      "source": [
        "tungsten_lead_cost = heater_module.iloc[5,1] #\n",
        "heater_machining_cost = heater_module.iloc[4,1] #\n",
        "heater_module.iloc[7,1] = heater_machining_cost + tungsten_lead_cost\n",
        "heater_cost = heater_machining_cost + tungsten_lead_cost"
      ]
    },
    {
      "cell_type": "code",
      "execution_count": null,
      "metadata": {
        "id": "DYYJUxW-1uV-"
      },
      "outputs": [],
      "source": [
        "heater_cost = heater_module.iloc[7,1] #\n",
        "heater_module.iloc[8,1] = heater_cost * 2 * number_of_heater_sections\n",
        "subtotal_heater_module_cost = heater_cost * 2 * number_of_heater_sections\n",
        "heater_module.iloc[7,3] = (heater_machining_cost + tungsten_lead_cost) / power_rating_of_heater / 1000000  # This is just the $ per Watt calculation in Notes column (not used in any other calculations)\n",
        "heater_cost_per_Watt = (heater_machining_cost + tungsten_lead_cost) / power_rating_of_heater / 1000000"
      ]
    },
    {
      "cell_type": "code",
      "execution_count": null,
      "metadata": {
        "id": "ShPI8K3t1Kdt"
      },
      "outputs": [],
      "source": [
        "subtotal_heater_module_cost = heater_module.iloc[8,1] #\n",
        "heater_module.iloc[0,1] = subtotal_heater_module_cost\n",
        "total_heater_module_cost = subtotal_heater_module_cost"
      ]
    },
    {
      "cell_type": "code",
      "execution_count": null,
      "metadata": {
        "id": "dPB4oWoM1BJn"
      },
      "outputs": [],
      "source": [
        "total_heater_module_cost = heater_module.iloc[0,1] #\n",
        "total_heater_module_cost"
      ]
    },
    {
      "cell_type": "code",
      "execution_count": null,
      "metadata": {
        "id": "IDBUz_bw3fAO"
      },
      "outputs": [],
      "source": [
        "heater_module"
      ]
    },
    {
      "cell_type": "markdown",
      "metadata": {
        "id": "Qcitn9xz3rqY"
      },
      "source": [
        "### **Heater Insulation**"
      ]
    },
    {
      "cell_type": "code",
      "execution_count": null,
      "metadata": {
        "id": "UAxcNgHQ3ztX"
      },
      "outputs": [],
      "source": [
        "heater_insulation"
      ]
    },
    {
      "cell_type": "code",
      "execution_count": null,
      "metadata": {
        "id": "lbscrB4T4S5q"
      },
      "outputs": [],
      "source": [
        "heater_insulation.iloc[3,1] = section_length\n",
        "heater_length = section_length\n",
        "heater_insulation.iloc[4,1] = number_of_sections_per_run\n",
        "heater_width = number_of_sections_per_run"
      ]
    },
    {
      "cell_type": "code",
      "execution_count": null,
      "metadata": {
        "id": "Bg5ew-AZ4S2o"
      },
      "outputs": [],
      "source": [
        "heater_length = heater_insulation.iloc[3,1] #\n",
        "heater_width = heater_insulation.iloc[4,1] #\n",
        "heater_height = heater_insulation.iloc[5,1] #\n",
        "heater_insulation.iloc[7,1] = heater_length + 2 * carbon_insulation_thickness\n",
        "heater_insulation_length = heater_length + 2 * carbon_insulation_thickness\n",
        "heater_insulation.iloc[8,1] = heater_width + 2 * carbon_insulation_thickness\n",
        "heater_insulation_width = heater_width + 2 * carbon_insulation_thickness\n",
        "heater_insulation.iloc[9,1] = heater_height + 2 * carbon_insulation_thickness\n",
        "heater_insulation_height = heater_height + 2 * carbon_insulation_thickness\n",
        "heater_insulation_length = heater_insulation.iloc[7,1] #\n",
        "heater_insulation_width = heater_insulation.iloc[8,1] #\n",
        "heater_insulation_height = heater_insulation.iloc[9,1] #\n",
        "heater_insulation.iloc[10,1] = (heater_insulation_length * heater_insulation_width * heater_insulation_height) - (heater_length * heater_width * heater_height)\n",
        "volume_of_heater_insulation = (heater_insulation_length * heater_insulation_width * heater_insulation_height) - (heater_length * heater_width * heater_height)"
      ]
    },
    {
      "cell_type": "code",
      "execution_count": null,
      "metadata": {
        "id": "6OWUKzQi4SfZ"
      },
      "outputs": [],
      "source": [
        "volume_of_heater_insulation = heater_insulation.iloc[10,1] #\n",
        "heater_insulation.iloc[11,1] = cost_of_insulation_per_m3 * volume_of_heater_insulation\n",
        "substotal_cost_of_heater_insulation = cost_of_insulation_per_m3 * volume_of_heater_insulation"
      ]
    },
    {
      "cell_type": "code",
      "execution_count": null,
      "metadata": {
        "id": "dQgY7zLj4All"
      },
      "outputs": [],
      "source": [
        "substotal_cost_of_heater_insulation = heater_insulation.iloc[11,1] #\n",
        "heater_insulation.iloc[0,1] = substotal_cost_of_heater_insulation\n",
        "total_heater_insulation_cost = substotal_cost_of_heater_insulation"
      ]
    },
    {
      "cell_type": "code",
      "execution_count": null,
      "metadata": {
        "id": "pr0G8bQ632mr"
      },
      "outputs": [],
      "source": [
        "total_heater_insulation_cost = heater_insulation.iloc[0,1] #\n",
        "total_heater_insulation_cost"
      ]
    },
    {
      "cell_type": "markdown",
      "metadata": {
        "id": "zBraMChK9fMh"
      },
      "source": [
        "### **Heater Electronics**"
      ]
    },
    {
      "cell_type": "code",
      "execution_count": null,
      "metadata": {
        "id": "0007DVvq9jHT"
      },
      "outputs": [],
      "source": [
        "heater_electronics"
      ]
    },
    {
      "cell_type": "code",
      "execution_count": null,
      "metadata": {
        "id": "yy80hJot9t1l"
      },
      "outputs": [],
      "source": [
        "charging_rate_in_MW = heater_electronics.iloc[2,1] #\n",
        "heater_electronics_cost_per_W = heater_electronics.iloc[3,1] #\n",
        "ase_buffer_heater_electronics = heater_electronics.iloc[5,1] #\n",
        "heater_electronics.iloc[0,1] = charging_rate_in_MW * 1000000 * heater_electronics_cost_per_W + ase_buffer_heater_electronics\n",
        "total_heater_electronics_cost = charging_rate_in_MW * 1000000 * heater_electronics_cost_per_W + ase_buffer_heater_electronics"
      ]
    },
    {
      "cell_type": "code",
      "execution_count": null,
      "metadata": {
        "id": "yEQs4lky9nDx"
      },
      "outputs": [],
      "source": [
        "total_heater_electronics_cost = heater_electronics.iloc[0,1] #\n",
        "total_heater_electronics_cost"
      ]
    },
    {
      "cell_type": "code",
      "execution_count": null,
      "metadata": {
        "id": "BupJoIK6_BIb"
      },
      "outputs": [],
      "source": [
        "heater_electronics"
      ]
    },
    {
      "cell_type": "markdown",
      "metadata": {
        "id": "qnEwCqJC_Guq"
      },
      "source": [
        "### **Controlled Atmosphere (Power)**"
      ]
    },
    {
      "cell_type": "code",
      "execution_count": null,
      "metadata": {
        "id": "lRraX5ZG_p62"
      },
      "outputs": [],
      "source": [
        "controlled_atmosphere_power"
      ]
    },
    {
      "cell_type": "code",
      "execution_count": null,
      "metadata": {
        "id": "znoysRdD_tJB"
      },
      "outputs": [],
      "source": [
        "controlled_atmosphere_power.iloc[2,1] = total_controlled_atmosphere_energy_cost\n",
        "estimate_from_cpe = total_controlled_atmosphere_energy_cost\n",
        "estimate_from_cpe = controlled_atmosphere_power.iloc[2,1]\n",
        "controlled_atmosphere_power.iloc[0,1] = 0.75 * estimate_from_cpe\n",
        "total_controlled_atmosphere_power_cost = 0.75 * estimate_from_cpe"
      ]
    },
    {
      "cell_type": "code",
      "execution_count": null,
      "metadata": {
        "id": "4GpH18YW_MxO"
      },
      "outputs": [],
      "source": [
        "total_controlled_atmosphere_power_cost = controlled_atmosphere_power.iloc[0,1] #\n",
        "total_controlled_atmosphere_power_cost"
      ]
    },
    {
      "cell_type": "code",
      "execution_count": null,
      "metadata": {
        "id": "LhBgBSA_AIUT"
      },
      "outputs": [],
      "source": [
        "controlled_atmosphere_power"
      ]
    },
    {
      "cell_type": "markdown",
      "metadata": {
        "id": "fWPi1q04ALA3"
      },
      "source": [
        "### **Dry Cooling**"
      ]
    },
    {
      "cell_type": "code",
      "execution_count": null,
      "metadata": {
        "id": "bQeofocGANdR"
      },
      "outputs": [],
      "source": [
        "dry_cooling"
      ]
    },
    {
      "cell_type": "code",
      "execution_count": null,
      "metadata": {
        "id": "8Q6qx8xpAal4"
      },
      "outputs": [],
      "source": [
        "cost_of_dry_cooling_per_watt = dry_cooling.iloc[3,1] #\n",
        "ase_buffer_dry_cooling = dry_cooling.iloc[5,1] #\n",
        "dry_cooling.iloc[0,1] = electrical_power_output * 1000000 * cost_of_dry_cooling_per_watt * 4 + ase_buffer_dry_cooling\n",
        "total_dry_cooling_cost = electrical_power_output * 1000000 * cost_of_dry_cooling_per_watt * 4 + ase_buffer_dry_cooling"
      ]
    },
    {
      "cell_type": "code",
      "execution_count": null,
      "metadata": {
        "id": "5cHiJ67iASCO"
      },
      "outputs": [],
      "source": [
        "total_dry_cooling_cost = dry_cooling.iloc[0,1] #\n",
        "total_dry_cooling_cost"
      ]
    },
    {
      "cell_type": "code",
      "execution_count": null,
      "metadata": {
        "id": "OYEhQ2w-BYdm"
      },
      "outputs": [],
      "source": [
        "dry_cooling"
      ]
    },
    {
      "cell_type": "markdown",
      "metadata": {
        "id": "oPnCrY6uBdLQ"
      },
      "source": [
        "### **Inverter**"
      ]
    },
    {
      "cell_type": "code",
      "execution_count": null,
      "metadata": {
        "id": "6l77DrUxBgfn"
      },
      "outputs": [],
      "source": [
        "inverter"
      ]
    },
    {
      "cell_type": "code",
      "execution_count": null,
      "metadata": {
        "id": "5xH5Kif3Bt05"
      },
      "outputs": [],
      "source": [
        "cost_of_inverter = inverter.iloc[3,1] #\n",
        "ase_buffer_inverter = inverter.iloc[5,1] #\n",
        "inverter.iloc[0,1] = electrical_power_output * 1000000 * cost_of_inverter + ase_buffer_inverter\n",
        "total_inverter_cost = electrical_power_output * 1000000 * cost_of_inverter + ase_buffer_inverter"
      ]
    },
    {
      "cell_type": "code",
      "execution_count": null,
      "metadata": {
        "id": "Y5Kf_VXoBiLf"
      },
      "outputs": [],
      "source": [
        "total_inverter_cost = inverter.iloc[0,1] #\n",
        "total_inverter_cost"
      ]
    },
    {
      "cell_type": "code",
      "execution_count": null,
      "metadata": {
        "id": "AVCtLqPyCItP"
      },
      "outputs": [],
      "source": [
        "inverter"
      ]
    },
    {
      "cell_type": "markdown",
      "metadata": {
        "id": "GXe4NrujCKYb"
      },
      "source": [
        "### **Power Total Cost (Subtotal of Overall Cost)**"
      ]
    },
    {
      "cell_type": "code",
      "execution_count": null,
      "metadata": {
        "id": "tIO_ugSSCNlu"
      },
      "outputs": [],
      "source": [
        "power_total_cost = total_graphite_cavities_cost + total_tungsten_liner_cost + total_power_block_tin_cost + total_power_block_insulation_cost + total_tpv_cells_cost + total_tpv_module_integration_cost + total_tpv_core_cooling_cost + total_heat_piping_cost + total_heater_tin_cost + total_heater_module_cost + total_heater_insulation_cost + total_heater_electronics_cost + total_controlled_atmosphere_power_cost + total_dry_cooling_cost + total_inverter_cost\n",
        "power_total_cost = round(power_total_cost, 2)\n",
        "power_total_cost"
      ]
    },
    {
      "cell_type": "markdown",
      "metadata": {
        "id": "lMg6CQVPCcyR"
      },
      "source": [
        "## **Total Cost of Project**"
      ]
    },
    {
      "cell_type": "code",
      "execution_count": null,
      "metadata": {
        "id": "IJF_zfKMCha2"
      },
      "outputs": [],
      "source": [
        "total_cost = energy_total_cost + power_total_cost\n",
        "total_cost"
      ]
    },
    {
      "cell_type": "code",
      "execution_count": null,
      "metadata": {
        "id": "HI8M_cSnEotB"
      },
      "outputs": [],
      "source": [
        "bates_rent_remaining = 237238\n",
        "final_total_cost = energy_total_cost + power_total_cost + bates_rent_remaining\n",
        "final_total_cost"
      ]
    },
    {
      "cell_type": "markdown",
      "metadata": {
        "id": "Z0-sKbV73hMt"
      },
      "source": [
        "## **Costs Spreadsheet**"
      ]
    },
    {
      "cell_type": "code",
      "execution_count": null,
      "metadata": {
        "id": "5Sa27aU25RXk"
      },
      "outputs": [],
      "source": [
        "selected_columns = [\n",
        "    'Unnamed: 11',\n",
        "    'Unnamed: 12',\n",
        "    'Unnamed: 13',\n",
        "    'Unnamed: 14',\n",
        "    'Unnamed: 15',\n",
        "    'Unnamed: 16',\n",
        "    'Unnamed: 17',\n",
        "    'Unnamed: 18',\n",
        "    'Unnamed: 19',\n",
        "    'Unnamed: 20',\n",
        "    'Unnamed: 21',\n",
        "    'Unnamed: 22',\n",
        "    'Unnamed: 23',\n",
        "    'Unnamed: 24',\n",
        "    'Unnamed: 25',\n",
        "    'Unnamed: 26',]\n",
        "\n",
        "costs_df = pd.DataFrame(costs_sheet[selected_columns])\n",
        "costs_df.reset_index(drop=True, inplace=True)\n",
        "costs_df = costs_df[0:99]\n",
        "costs_df.fillna('', inplace=True)\n",
        "costs_df"
      ]
    },
    {
      "cell_type": "code",
      "execution_count": null,
      "metadata": {
        "id": "KR_wHoAt81g6"
      },
      "outputs": [],
      "source": [
        "cost_unit_energy = costs_df.iloc[4:22, 0:7]\n",
        "cost_unit_power = costs_df.iloc[4:26, 7:9]"
      ]
    },
    {
      "cell_type": "markdown",
      "metadata": {
        "id": "8rGxYhmFAYxj"
      },
      "source": [
        "### **Cost/Unit/Energy (Watts) Calculations**"
      ]
    },
    {
      "cell_type": "code",
      "execution_count": null,
      "metadata": {
        "id": "CFsSSccS926k"
      },
      "outputs": [],
      "source": [
        "cost_unit_energy"
      ]
    },
    {
      "cell_type": "code",
      "execution_count": null,
      "metadata": {
        "id": "YVdh3p4q_Olh"
      },
      "outputs": [],
      "source": [
        "cost_unit_energy.iloc[2,1] = total_esb_cost\n",
        "cost_unit_energy.iloc[3,1] = total_esb_piping_cost\n",
        "cost_unit_energy.iloc[4,1] = total_tin_cost\n",
        "cost_unit_energy.iloc[5,1] = total_insulation_energy_cost\n",
        "cost_unit_energy.iloc[6,1] = total_instrumentation_cost\n",
        "cost_unit_energy.iloc[7,1] = total_controlled_atmosphere_energy_cost\n",
        "cost_unit_energy.iloc[8,1] = total_pumps_cost - ase_buffer_pumps\n",
        "construction_cost = cost_unit_energy.iloc[9,1]\n",
        "engineering_cost = cost_unit_energy.iloc[10,1]\n",
        "total_energy_cost_per_W_hour = (\n",
        "    total_esb_cost +\n",
        "    total_esb_piping_cost +\n",
        "    total_tin_cost +\n",
        "    total_insulation_energy_cost +\n",
        "    total_instrumentation_cost +\n",
        "    total_controlled_atmosphere_energy_cost +\n",
        "    total_pumps_cost)\n",
        "cost_unit_energy.iloc[13, 1] = total_energy_cost_per_W_hour\n",
        "total_energy_cost_per_KWh = total_energy_cost_per_W_hour / 1000\n",
        "cost_unit_energy.iloc[14, 1] = total_energy_cost_per_KWh"
      ]
    },
    {
      "cell_type": "code",
      "execution_count": null,
      "metadata": {
        "id": "oDd8hgrrOqmS"
      },
      "outputs": [],
      "source": [
        "cost_unit_energy"
      ]
    },
    {
      "cell_type": "markdown",
      "metadata": {
        "id": "mVBTI9Q2CaJ8"
      },
      "source": [
        "Notes:\\\n",
        "-ESB Piping cost increased because number of pipe runs increase from 4.65 to 5.58\\\n",
        "-ESB Tin cost increased because tin mass increase from 253 to 304 kg and tin cost per kg increase from 19.89 to 30.34\\\n",
        "-Pumps cost decreased by removing Ase's buffer of $40k\n"
      ]
    },
    {
      "cell_type": "markdown",
      "metadata": {
        "id": "_1P50ICcCb-Z"
      },
      "source": [
        "### **Cost/Unit/Power Calculations**"
      ]
    },
    {
      "cell_type": "code",
      "execution_count": null,
      "metadata": {
        "id": "006x7Zo685_T"
      },
      "outputs": [],
      "source": [
        "cost_unit_power"
      ]
    },
    {
      "cell_type": "code",
      "execution_count": null,
      "metadata": {
        "id": "brf1_zuOXFqi"
      },
      "outputs": [],
      "source": [
        "cost_unit_power.iloc[2,1] = total_graphite_cavities_cost\n",
        "cost_unit_power.iloc[3,1] = total_tungsten_liner_cost\n",
        "cost_unit_power.iloc[4,1] = total_power_block_tin_cost\n",
        "cost_unit_power.iloc[5,1] = total_power_block_insulation_cost\n",
        "cost_unit_power.iloc[6,1] = total_tpv_cells_cost\n",
        "cost_unit_power.iloc[7,1] = total_tpv_module_integration_cost\n",
        "cost_unit_power.iloc[8,1] = total_tpv_core_cooling_cost\n",
        "cost_unit_power.iloc[9,1] = total_heat_piping_cost\n",
        "cost_unit_power.iloc[10,1] = total_heater_tin_cost\n",
        "cost_unit_power.iloc[11,1] = total_heater_module_cost\n",
        "cost_unit_power.iloc[12,1] = total_heater_insulation_cost\n",
        "cost_unit_power.iloc[13,1] = total_heater_electronics_cost\n",
        "cost_unit_power.iloc[14,1] = total_controlled_atmosphere_power_cost\n",
        "cost_unit_power.iloc[15,1] = total_dry_cooling_cost\n",
        "cost_unit_power.iloc[16,1] = total_inverter_cost\n",
        "cost_unit_power.iloc[17,1] = construction_cost\n",
        "total_power_cost_per_W_hour = (\n",
        "    total_graphite_cavities_cost +\n",
        "    total_tungsten_liner_cost +\n",
        "    total_power_block_tin_cost +\n",
        "    total_power_block_insulation_cost +\n",
        "    total_tpv_cells_cost +\n",
        "    total_tpv_module_integration_cost +\n",
        "    total_tpv_core_cooling_cost +\n",
        "    total_heat_piping_cost +\n",
        "    total_heater_module_cost +\n",
        "    total_heater_insulation_cost +\n",
        "    total_heater_electronics_cost +\n",
        "    total_controlled_atmosphere_power_cost +\n",
        "    total_dry_cooling_cost +\n",
        "    total_inverter_cost +\n",
        "    construction_cost)\n",
        "cost_unit_power.iloc[19,1] = total_power_cost_per_W_hour\n",
        "total_power_cost_per_kWh = total_power_cost_per_W_hour / 100000\n",
        "cost_unit_power.iloc[20,1] = total_power_cost_per_kWh"
      ]
    },
    {
      "cell_type": "markdown",
      "metadata": {
        "id": "iVEugGw6aSGq"
      },
      "source": [
        "Notes:\\\n",
        "-Graphite Cavities cost will be tripled for 9109.60 according to Sandeep and add 20k for Ase's buffer\\\n",
        "-Tungsten Liner cost increased by 18k for Ase's buffer\\\n",
        "-Power Block Tin cost increases because 8353.80 was cost of tin per graphite cavity, and new cost is total power block tin cost with 12k added for Ase's buffer\\\n",
        "-TPV Cells cost increases by 360\\\n",
        "-TPV Core Cooling cost increases by 16k for Ase buffer\\\n",
        "-Heat Piping cost increased because cost of fittings tripled according to Sandeep (heat piping cost = cost of fittings + cost of piping)\\\n",
        "-Heater Tin cost increases because tin cost increase from 19.80 to 30.34 per kg and Ase buffer of 8k\\\n",
        "-Heater Electronics cost increases for Ase's buffer of 180k\\\n",
        "-Dry Cooling cost discrepancy because first calculation uses electrical power output (0.1 MW-e) versus second calculation which uses charging rate (1.0 MW-e) plus an increase for Ase's buffer of 370k\\\n",
        "-Inverter cost increase for Ase's buffer of 22k\\\n",
        "-Total difference in cost = 707,383"
      ]
    },
    {
      "cell_type": "code",
      "execution_count": null,
      "metadata": {
        "id": "69qZlTUlaWSU"
      },
      "outputs": [],
      "source": [
        "cost_unit_power"
      ]
    },
    {
      "cell_type": "markdown",
      "metadata": {
        "id": "j9cMfq1erE2f"
      },
      "source": [
        "### **Salaries Costs**"
      ]
    },
    {
      "cell_type": "code",
      "execution_count": null,
      "metadata": {
        "id": "Pc2wvVdbrBRe"
      },
      "outputs": [],
      "source": [
        "misc_costs = costs_df.iloc[24:63, 0:7]\n",
        "misc_costs"
      ]
    },
    {
      "cell_type": "code",
      "execution_count": null,
      "metadata": {
        "id": "21a0tqSku0F_"
      },
      "outputs": [],
      "source": [
        "ceo_salary = misc_costs.iloc[1,1]\n",
        "total_ceo_salary = ceo_salary * misc_costs.iloc[1,3]\n",
        "misc_costs.iloc[1,4] = total_ceo_salary"
      ]
    },
    {
      "cell_type": "code",
      "execution_count": null,
      "metadata": {
        "id": "FaiOOsuqzzd5"
      },
      "outputs": [],
      "source": [
        "senior_engineer_salary = misc_costs.iloc[2,1]\n",
        "total_senior_engineers_cost = senior_engineer_salary * misc_costs.iloc[2,3]\n",
        "misc_costs.iloc[2,4] = total_senior_engineers_cost"
      ]
    },
    {
      "cell_type": "code",
      "execution_count": null,
      "metadata": {
        "id": "c3w1F__b6JHZ"
      },
      "outputs": [],
      "source": [
        "engineer_salary = misc_costs.iloc[3,1]\n",
        "total_engineers_cost = engineer_salary * misc_costs.iloc[3,3]\n",
        "misc_costs.iloc[3,4] = total_engineers_cost"
      ]
    },
    {
      "cell_type": "code",
      "execution_count": null,
      "metadata": {
        "id": "mmsILYiK7uTL"
      },
      "outputs": [],
      "source": [
        "controller_salary = misc_costs.iloc[4,1]\n",
        "total_controller_cost = controller_salary * misc_costs.iloc[4,3]\n",
        "misc_costs.iloc[4,4] = total_controller_cost"
      ]
    },
    {
      "cell_type": "code",
      "execution_count": null,
      "metadata": {
        "id": "Gf-Fmiuj7um0"
      },
      "outputs": [],
      "source": [
        "project_administrator_salary = misc_costs.iloc[5,1]\n",
        "total_project_administrator_cost = project_administrator_salary * misc_costs.iloc[5,3]\n",
        "misc_costs.iloc[5,4] = total_project_administrator_cost"
      ]
    },
    {
      "cell_type": "code",
      "execution_count": null,
      "metadata": {
        "id": "1PyxGaV07uuD"
      },
      "outputs": [],
      "source": [
        "administrative_assistant_salary = misc_costs.iloc[6,1]\n",
        "total_administrative_assistant_cost = administrative_assistant_salary * misc_costs.iloc[6,3]\n",
        "misc_costs.iloc[6,4] = total_administrative_assistant_cost"
      ]
    },
    {
      "cell_type": "code",
      "execution_count": null,
      "metadata": {
        "id": "fjt59KyZ7u_k"
      },
      "outputs": [],
      "source": [
        "business_development_salary = misc_costs.iloc[7,1]\n",
        "total_business_development_cost = business_development_salary * misc_costs.iloc[7,3]\n",
        "misc_costs.iloc[7,4] = total_business_development_cost"
      ]
    },
    {
      "cell_type": "code",
      "execution_count": null,
      "metadata": {
        "id": "lt1VJt8O9PgG"
      },
      "outputs": [],
      "source": [
        "salary_overhead = misc_costs.iloc[8,1]\n",
        "yearly_cost_of_fourth_power_team = (1 + salary_overhead) * (total_ceo_salary + total_senior_engineers_cost + total_engineers_cost + total_controller_cost + total_project_administrator_cost + total_administrative_assistant_cost + total_business_development_cost)\n",
        "misc_costs.iloc[9,1] = round(yearly_cost_of_fourth_power_team, 2)"
      ]
    },
    {
      "cell_type": "code",
      "execution_count": null,
      "metadata": {
        "id": "qWadfAju-4Hp"
      },
      "outputs": [],
      "source": [
        "project_duration_years = misc_costs.iloc[10,1]\n",
        "total_fourth_power_employee_costs = misc_costs.iloc[9,1] * project_duration_years\n",
        "misc_costs.iloc[11,1] = total_fourth_power_employee_costs\n",
        "total_fourth_power_employee_costs_in_millions = total_fourth_power_employee_costs/1000000\n",
        "misc_costs.iloc[12,1] = total_fourth_power_employee_costs_in_millions"
      ]
    },
    {
      "cell_type": "markdown",
      "metadata": {
        "id": "boqio5m65W4O"
      },
      "source": [
        "### **Operating Costs**"
      ]
    },
    {
      "cell_type": "code",
      "execution_count": null,
      "metadata": {
        "id": "GhP6IBvQCDxv"
      },
      "outputs": [],
      "source": [
        "years_of_operations = misc_costs.iloc[15,1]\n",
        "salary_per_operator = misc_costs.iloc[16,1]\n",
        "operations_overhead = misc_costs.iloc[17,1]\n",
        "yearly_cost_of_operations_per_employee = salary_per_operator * (1 + operations_overhead)\n",
        "misc_costs.iloc[18,1] = yearly_cost_of_operations_per_employee"
      ]
    },
    {
      "cell_type": "code",
      "execution_count": null,
      "metadata": {
        "id": "2eU3oJU35eh8"
      },
      "outputs": [],
      "source": [
        "number_of_operators = misc_costs.iloc[19,1]\n",
        "total_cost_of_operators_per_year = number_of_operators * yearly_cost_of_operations_per_employee\n",
        "misc_costs.iloc[20,1] = total_cost_of_operators_per_year"
      ]
    },
    {
      "cell_type": "code",
      "execution_count": null,
      "metadata": {
        "id": "LXffoWhY6ZUG"
      },
      "outputs": [],
      "source": [
        "total_operators_cost = yearly_cost_of_operations_per_employee * years_of_operations + (yearly_cost_of_operations_per_employee * 2)\n",
        "misc_costs.iloc[21,1] = total_operators_cost"
      ]
    },
    {
      "cell_type": "code",
      "execution_count": null,
      "metadata": {
        "id": "wCH2PrVAEoJA"
      },
      "outputs": [],
      "source": [
        "electricity_price_per_kWh = misc_costs.iloc[22,1]\n",
        "charging_power = charging_rate / 2\n",
        "misc_costs.iloc[23,1] = charging_power\n",
        "heat_leakage_rate = misc_costs.iloc[24,1]\n",
        "charging_duration = electrical_storage_esb / electrical_power_output\n",
        "misc_costs.iloc[26,1] = charging_duration"
      ]
    },
    {
      "cell_type": "code",
      "execution_count": null,
      "metadata": {
        "id": "QEljXYcq92YC"
      },
      "outputs": [],
      "source": [
        "fraction_of_day_spent_charging = charging_duration / 24\n",
        "misc_costs.iloc[25,1] = fraction_of_day_spent_charging\n",
        "average_power_consumption_per_day_in_kWh = ((charging_power * fraction_of_day_spent_charging) + heat_leakage_rate) * 1000\n",
        "misc_costs.iloc[27,1] = average_power_consumption_per_day_in_kWh\n",
        "hours_per_year = misc_costs.iloc[28,1]\n",
        "cost_of_electricity_per_year = electricity_price_per_kWh * average_power_consumption_per_day_in_kWh * hours_per_year\n",
        "misc_costs.iloc[29,1] = cost_of_electricity_per_year"
      ]
    },
    {
      "cell_type": "code",
      "execution_count": null,
      "metadata": {
        "id": "Il_E-IBEEuPK"
      },
      "outputs": [],
      "source": [
        "argon_bottle_cost_per_day = misc_costs.iloc[30,1]\n",
        "number_of_argon_bottles_per_day = misc_costs.iloc[31,1]\n",
        "cost_of_argon_per_year = argon_bottle_cost_per_day * number_of_argon_bottles_per_day * 365\n",
        "misc_costs.iloc[32,1] = cost_of_argon_per_year"
      ]
    },
    {
      "cell_type": "code",
      "execution_count": null,
      "metadata": {
        "id": "PR9R8p7k92p1"
      },
      "outputs": [],
      "source": [
        "total_cost_of_electricity = cost_of_electricity_per_year * years_of_operations\n",
        "total_cost_of_electricity = misc_costs.iloc[33,1]\n",
        "total_cost_of_argon = cost_of_argon_per_year * years_of_operations\n",
        "misc_costs.iloc[34,1] = total_cost_of_argon\n",
        "total_operating_costs = total_cost_of_argon + total_cost_of_electricity + total_operators_cost\n",
        "misc_costs.iloc[35,1] = total_operating_costs\n",
        "total_operating_costs_in_millions = round((misc_costs.iloc[35,1] / 1000000), 2)\n",
        "misc_costs.iloc[36,1] = total_operating_costs_in_millions\n",
        "OPEX_per_kW_per_year = total_operating_costs / years_of_operations / (electrical_power_output * 1000)\n",
        "misc_costs.iloc[37,1] = OPEX_per_kW_per_year"
      ]
    },
    {
      "cell_type": "code",
      "execution_count": null,
      "metadata": {
        "id": "r4oG91AgYgVQ"
      },
      "outputs": [],
      "source": [
        "misc_costs = costs_df.iloc[24:63, 0:7]\n",
        "misc_costs"
      ]
    },
    {
      "cell_type": "markdown",
      "metadata": {
        "id": "fkXtQyWySzPP"
      },
      "source": [
        "### Overall Budget Scenarios"
      ]
    },
    {
      "cell_type": "code",
      "execution_count": null,
      "metadata": {
        "id": "3q3l5YGuS4kz"
      },
      "outputs": [],
      "source": [
        "budget_scenarios = costs_df.iloc[45:99, 6:]\n",
        "budget_scenarios.rename(columns={'Unnamed: 18': 'Category', 'Unnamed: 19': 'Current Cost Model', 'Unnamed: 21': 'Original Cost Model', 'Unnamed: 22': 'Variance Between Models'}, inplace=True)\n",
        "budget_scenarios"
      ]
    },
    {
      "cell_type": "code",
      "execution_count": null,
      "metadata": {
        "id": "4RK0dIuhAjXd"
      },
      "outputs": [],
      "source": []
    },
    {
      "cell_type": "markdown",
      "metadata": {
        "id": "mgu2B5Gp0iE9"
      },
      "source": [
        "## **TEA Modeling**"
      ]
    },
    {
      "cell_type": "markdown",
      "metadata": {
        "id": "ULdjlk54sE7H"
      },
      "source": [
        "Things to look at: price sensitivity, density measurements effect, density/price of tin and graphite, \\\n",
        "Move to other platform to share with Fourth Power account\n"
      ]
    },
    {
      "cell_type": "markdown",
      "metadata": {
        "id": "wfGANyBf9zOD"
      },
      "source": [
        "### Total Variables\n",
        "**Energy Costs**\\\n",
        "*ESB (Energy Storage Blocks):*\\\n",
        "electrical_storage_esb\\\n",
        "rte_esb\\\n",
        "thermal_energy_stored_esb\\\n",
        "Cp\\\n",
        "DT\\\n",
        "energy_density_uncoverted\\\n",
        "density_esb\\\n",
        "energy_density\\\n",
        "kWh_t_m3\\\n",
        "total_volume_esb\\\n",
        "esb_cost_per_kg\\\n",
        "total_mass_esb\\\n",
        "total_esb_cost\\\n",
        "\\\n",
        "*ESB Piping:*\\\n",
        "length_of_block\\\n",
        "fitting_thickness\\\n",
        "number_of_fittings_per_block_cross_section\\\n",
        "number_of_fittings_along_length\\\n",
        "esb_height\\\n",
        "esb_width\\\n",
        "esb_length\\\n",
        "volume_per_block\\\n",
        "depth_target\\\n",
        "number_of_blocks_per_run\\\n",
        "total_number_of_blocks\\\n",
        "number_of_pipe_runs\\\n",
        "esb_pipe_run_length\\\n",
        "esb_pipes_per_pass\\\n",
        "esb_pipe_length\\\n",
        "number_of_pipes_per_run\\\n",
        "cost_per_fitting_block\\\n",
        "number_of_fittings_per_block\\\n",
        "material_cost_per_fitting\\\n",
        "fittings_per_run\\\n",
        "machining_cost_per_fitting\\\n",
        "cost_per_fitting\\\n",
        "length_of_pipe_per_run\\\n",
        "cost_of_fittings_per_run\\\n",
        "cost_of_extruded_pipe\\\n",
        "cost_of_pipe_per_run\\\n",
        "cost_of_pipe_and_fittings_per_run\\\n",
        "total_esb_piping_cost\\\n",
        "\\\n",
        "*Tin:*\\\n",
        "tin_height\\\n",
        "tin_weight\\\n",
        "block_cross_section\\\n",
        "pipe_ID\\\n",
        "pipe_ac\\\n",
        "unit_cell_graphite_cross_section\\\n",
        "area_ratio\\\n",
        "tin_volume\\\n",
        "rho_tin\\\n",
        "tin_mass_kg\\\n",
        "tin_cost_per_kg\\\n",
        "subtotal_tin_cost\\\n",
        "ase_buffer_tin\\\n",
        "total_tin_cost\\\n",
        "\\\n",
        "*Insulation Energy:*\\\n",
        "height_target\\\n",
        "depth_target\\\n",
        "esb_cost_per_kg\\\n",
        "block_thickness\\\n",
        "total_length_along_subgroup_breaking_direction\\\n",
        "block_height\\\n",
        "block_width\\\n",
        "block_length\\\n",
        "insulation_volume\\\n",
        "cost_of_insulation_per_m3\\\n",
        "insulation_subtotal_cost\\\n",
        "total_insulation_energy_cost\\\n",
        "\\\n",
        "*Instrumentation:*\\\n",
        "number_of_pyrometers\\\n",
        "cost_per_pyrometer\\\n",
        "cost_of_pyrometers\\\n",
        "cost_of_other_instrumentation_buffer\\\n",
        "total_instrumentation_cost\\\n",
        "\\\n",
        "*Controlled Atmosphere Energy:*\\\n",
        "total_controlled_atmosphere_energy_cost\\\n",
        "\\\n",
        "*Pumps:*\\\n",
        "number_of_pumps\\\n",
        "cost_of_a_pump\\\n",
        "pump_cost\\\n",
        "ase_buffer_pumps\\\n",
        "total_pumps_cost\\\n",
        "\\\n",
        "*Infrastructure:*\\\n",
        "total_infrastructure_cost\\\n",
        "\\\n",
        "\\\n",
        "**Power Costs**\\\n",
        "*Graphite Cavities:*\\\n",
        "cavity_power_output\\\n",
        "electrical_power_output\\\n",
        "number_of_sticks\\\n",
        "fitting_block_width\\\n",
        "panel_thickness\\\n",
        "number_of_panels_per_block\\\n",
        "cost_of_fitting_block\\\n",
        "cost_of_graphite_cavity_material\\\n",
        "machining_cost_of_graphite_cavity\\\n",
        "cost_per_graphite_cavity\\\n",
        "ase_buffer_graphite_cavities\\\n",
        "total_graphite_cavities_cost\\\n",
        "\\\n",
        "*Tungsten Liner:*\\\n",
        "tungsten_liner_cost_per_square_meter\\\n",
        "cavity_area\\\n",
        "tungsten_liner_cost\\\n",
        "ase_buffer_tungsten_liner\\\n",
        "total_tungsten_liner_cost\\\n",
        "\\\n",
        "*Power Block Tin:*\\\n",
        "power_block_width\\\n",
        "tin_width\\\n",
        "tin_thickness\\\n",
        "tin_channel_ac\\\n",
        "cavity_length\\\n",
        "power_block_tin_volume\\\n",
        "power_block_tin_mass\\\n",
        "subtotal_power_block_tin_cost\\\n",
        "ase_buffer_power_block_tin\\\n",
        "total_power_block_tin_cost\\\n",
        "\\\n",
        "*Insulation Power:*\\\n",
        "carbon_insulation_thickness\\\n",
        "power_block_width\\\n",
        "number_of_sticks\\\n",
        "tpv_power_block_length\\\n",
        "cavity_length\\\n",
        "tpv_power_block_height\\\n",
        "insulation_outer_length\\\n",
        "insulation_outer_width\\\n",
        "insulation_outer_height\\\n",
        "volume_of_insulation\\\n",
        "subtotal_power_block_insulation\\\n",
        "total_power_block_insulation_cost\\\n",
        "\\\n",
        "*TPV Cells:*\\\n",
        "MOCVD_cost\\\n",
        "MOCVD_cost_relative_to_subtrate_cost\\\n",
        "tpv_engineering_salary_factor\\\n",
        "module_length\\\n",
        "module_width\\\n",
        "module_area\\\n",
        "tpv_area\\\n",
        "tpv_device_cost\\\n",
        "tpv_cell_cost_per_module\\\n",
        "modules_per_stick\\\n",
        "ase_buffer_tpv_cells\\\n",
        "total_tpv_cells_cost\\\n",
        "\\\n",
        "*TPV Module Integration:*\\\n",
        "module_fabrication_cost\\\n",
        "carrier_cost\\\n",
        "modules_per_stick\\\n",
        "total_tpv_module_integration_cost\\\n",
        "\\\n",
        "*TPV Core Cooling:*\\\n",
        "tpv_core_cost\\\n",
        "ase_buffer_tpv_core_cooling\\\n",
        "total_tpv_core_cooling_cost\\\n",
        "\\\n",
        "*Heat Piping:*\\\n",
        "section_length\\\n",
        "number_of_elements_per_heater\\\n",
        "pipe_width\\\n",
        "charging_rate\\\n",
        "power_rating_of_heater\\\n",
        "heater_total_width\\\n",
        "number_of_heater_sections\\\n",
        "number_of_sections_per_run\\\n",
        "number_of_rows\\\n",
        "fitting_diameter\\\n",
        "pipe_height\\\n",
        "total_pipe_length\\\n",
        "total_number_of_fittings\\\n",
        "cost_of_pipe\\\n",
        "cost_of_fittings\\\n",
        "total_heat_piping_cost\\\n",
        "\\\n",
        "*Heater Tin:*\\\n",
        "tin_volume_in_heater\\\n",
        "tin_mass_in_heater\\\n",
        "subtotal_cost_of_tin\\\n",
        "total_heater_tin_cost\\\n",
        "\\\n",
        "*Heater Module:*\\\n",
        "tungsten_lead_cost\\\n",
        "heater_cost\\\n",
        "subtotal_heater_module_cost\\\n",
        "heater_cost_per_Watt\\\n",
        "total_heater_module_cost\\\n",
        "\\\n",
        "*Heater Insulation:*\\\n",
        "heater_length\\\n",
        "heater_width\\\n",
        "heater_height\\\n",
        "heater_insulation_length\\\n",
        "heater_insulation_width\\\n",
        "heater_insulation_height\\\n",
        "volume_of_heater_insulation\\\n",
        "substotal_cost_of_heater_insulation\\\n",
        "total_heater_insulation_cost\\\n",
        "\\\n",
        "*Heater Electronics:*\\\n",
        "charging_rate_in_MW\\\n",
        "heater_electronics_cost_per_W\\\n",
        "total_heater_electronics_cost\\\n",
        "\\\n",
        "*Controlled Atmosphere Power:*\\\n",
        "total_controlled_atmosphere_energy_cost\\\n",
        "total_controlled_atmosphere_power_cost\\\n",
        "\\\n",
        "*Dry Cooling:*\\\n",
        "electrical_power_output\\\n",
        "total_dry_cooling_cost\\\n",
        "\\\n",
        "*Inverter:*\\\n",
        "electrical_power_output\\\n",
        "total_inverter_cost\n"
      ]
    },
    {
      "cell_type": "markdown",
      "metadata": {
        "id": "CEZnvi5dnTMe"
      },
      "source": [
        "### Variable Dependencies"
      ]
    },
    {
      "cell_type": "code",
      "execution_count": null,
      "metadata": {
        "id": "ljy3d9OznV0P"
      },
      "outputs": [],
      "source": [
        "# ENERGY VARIABLE DEPENDENCIES\n",
        "\n",
        "esb_dependencies = {\n",
        "    'electrical_storage_esb': [],\n",
        "    'rte_esb': [],\n",
        "    'thermal_energy_stored_esb': ['electrical_storage_esb', 'rte_esb'],\n",
        "    'Cp': [],\n",
        "    'DT': [],\n",
        "    'energy_density_uncoverted': ['Cp', 'DT'],\n",
        "    'density_esb': ['energy_storage_blocks'],\n",
        "    'energy_density': ['density_esb', 'energy_density_uncoverted'],\n",
        "    'kWh_t_m3': ['energy_density'],\n",
        "    'total_volume_esb': ['thermal_energy_stored_esb', 'kWh_t_m3'],\n",
        "    'esb_cost_per_kg': ['thermal_energy_stored_esb'],\n",
        "    'total_mass_esb': ['density_esb', 'total_volume_esb'],\n",
        "    'total_esb_cost': ['total_mass_esb', 'esb_cost_per_kg']}\n",
        "\n",
        "\n",
        "esb_piping_dependencies = {\n",
        "    'length_of_block': ['esb_piping'],\n",
        "    'fitting_thickness': ['esb_piping'],\n",
        "    'number_of_fittings_per_block_cross_section': ['esb_piping'],\n",
        "    'number_of_fittings_along_length': ['length_of_block', 'fitting_thickness'],\n",
        "    'esb_height': ['esb_piping'],\n",
        "    'esb_width': ['esb_piping'],\n",
        "    'esb_length': ['esb_piping'],\n",
        "    'volume_per_block': ['esb_width', 'esb_length', 'esb_height'],\n",
        "    'depth_target': ['esb_piping'],\n",
        "    'number_of_blocks_per_run': ['depth_target', 'esb_length', 'volume_per_block', 'total_volume_esb'],\n",
        "    'total_number_of_blocks': ['total_volume_esb', 'volume_per_block'],\n",
        "    'number_of_pipe_runs': ['total_number_of_blocks', 'number_of_blocks_per_run'],\n",
        "    'esb_pipe_run_length': ['depth_target'],\n",
        "    'esb_pipes_per_pass': ['esb_piping'],\n",
        "    'esb_pipe_length': ['esb_piping'],\n",
        "    'number_of_pipes_per_run': ['esb_pipe_run_length', 'esb_pipes_per_pass', 'esb_pipe_length'],\n",
        "    'cost_per_fitting_block': ['esb_piping'],\n",
        "    'number_of_fittings_per_block': ['esb_piping'],\n",
        "    'material_cost_per_fitting': ['cost_per_fitting_block', 'number_of_fittings_per_block'],\n",
        "    'fittings_per_run': ['number_of_pipes_per_run'],\n",
        "    'machining_cost_per_fitting': ['esb_piping'],\n",
        "    'cost_per_fitting': ['material_cost_per_fitting', 'machining_cost_per_fitting'],\n",
        "    'length_of_pipe_per_run': ['esb_pipe_run_length', 'esb_pipes_per_pass'],\n",
        "    'cost_of_fittings_per_run': ['cost_per_fitting', 'fittings_per_run'],\n",
        "    'cost_of_extruded_pipe': ['esb_piping'],\n",
        "    'cost_of_pipe_per_run': ['cost_of_extruded_pipe', 'length_of_pipe_per_run'],\n",
        "    'cost_of_pipe_and_fittings_per_run': ['cost_of_pipe_per_run', 'cost_of_fittings_per_run'],\n",
        "    'total_esb_piping_cost': ['cost_of_pipe_and_fittings_per_run', 'number_of_pipe_runs']}\n",
        "\n",
        "\n",
        "tin_dependencies = {\n",
        "    'tin_height': ['tin'],\n",
        "    'tin_weight': ['tin'],\n",
        "    'block_cross_section': ['tin_height', 'tin_weight'],\n",
        "    'pipe_ID': ['tin'],\n",
        "    'pipe_ac': ['pipe_ID'],\n",
        "    'unit_cell_graphite_cross_section': ['block_cross_section'],\n",
        "    'area_ratio': ['pipe_ac', 'unit_cell_graphite_cross_section'],\n",
        "    'tin_volume': ['total_volume_esb', 'area_ratio'],\n",
        "    'rho_tin': ['tin'],\n",
        "    'tin_mass_kg': ['tin_volume', 'rho_tin'],\n",
        "    'tin_cost_per_kg': ['tin'],\n",
        "    'subtotal_tin_cost': ['tin_cost_per_kg', 'tin_mass_kg'],\n",
        "    'ase_buffer_tin': ['tin'],\n",
        "    'total_tin_cost': ['subtotal_tin_cost', 'ase_buffer_tin']}\n",
        "\n",
        "\n",
        "insulation_energy_dependencies = {\n",
        "    'height_target': ['insulation_energy'],\n",
        "    'depth_target': ['insulation_energy'],\n",
        "    'esb_cost_per_kg': ['insulation_energy', 'height_target', 'depth_target'],\n",
        "    'block_thickness': ['insulation_energy'],\n",
        "    'total_length_along_subgroup_breaking_direction': ['insulation_energy', 'esb_cost_per_kg', 'height_target', 'depth_target'],\n",
        "    'block_height': ['block_thickness', 'height_target'],\n",
        "    'block_width': ['block_thickness', 'depth_target'],\n",
        "    'block_length': ['block_thickness', 'total_length_along_subgroup_breaking_direction'],\n",
        "    'insulation_volume': ['block_height', 'block_width', 'block_length', 'esb_cost_per_kg'],\n",
        "    'cost_of_insulation_per_m3': ['insulation_energy'],\n",
        "    'insulation_subtotal_cost': ['insulation_volume', 'cost_of_insulation_per_m3'],\n",
        "    'total_insulation_energy_cost': ['insulation_subtotal_cost']}\n",
        "\n",
        "\n",
        "instrumentation_dependencies = {\n",
        "    'instrumentation': [],\n",
        "    'number_of_pyrometers': ['instrumentation'],\n",
        "    'cost_per_pyrometer': ['instrumentation'],\n",
        "    'cost_of_pyrometers': ['cost_per_pyrometer', 'number_of_pyrometers', 'instrumentation'],\n",
        "    'cost_of_other_instrumentation_buffer': ['instrumentation', 'cost_of_pyrometers'],\n",
        "    'total_instrumentation_cost': ['cost_of_pyrometers', 'cost_of_other_instrumentation_buffer']}\n",
        "\n",
        "\n",
        "controlled_atmosphere_energy_dependencies = {\n",
        "    'total_controlled_atmosphere_energy_cost': []}\n",
        "\n",
        "\n",
        "pumps_dependencies = {\n",
        "    'number_of_pumps': [],\n",
        "    'cost_of_a_pump': [],\n",
        "    'pump_cost': ['cost_of_a_pump', 'number_of_pumps'],\n",
        "    'ase_buffer_pumps': [],\n",
        "    'total_pumps_cost': ['pump_cost', 'ase_buffer_pumps']}\n",
        "\n",
        "\n",
        "infrastructure_dependencies = {\n",
        "    'total_infrastructure_cost': []}\n",
        "\n",
        "energy_total_cost_dependencies = {\n",
        "    'energy_total_cost': [\n",
        "        'total_esb_cost',\n",
        "        'total_esb_piping_cost',\n",
        "        'total_tin_cost',\n",
        "        'total_insulation_energy_cost',\n",
        "        'total_instrumentation_cost',\n",
        "        'total_controlled_atmosphere_energy_cost',\n",
        "        'total_pumps_cost',\n",
        "        'total_infrastructure_cost']}"
      ]
    },
    {
      "cell_type": "code",
      "execution_count": null,
      "metadata": {
        "id": "8PLClKl8orsc"
      },
      "outputs": [],
      "source": [
        "# POWER VARIABLE DEPENDENCIES\n",
        "\n",
        "graphite_cavities_dependencies = {\n",
        "    'cavity_power_output': ['graphite_cavities'],\n",
        "    'electrical_power_output': ['graphite_cavities'],\n",
        "    'number_of_sticks': ['electrical_power_output', 'cavity_power_output', 'graphite_cavities'],\n",
        "    'fitting_block_width': ['graphite_cavities'],\n",
        "    'panel_thickness': ['graphite_cavities'],\n",
        "    'number_of_panels_per_block': ['fitting_block_width', 'panel_thickness', 'graphite_cavities'],\n",
        "    'cost_of_fitting_block': ['graphite_cavities'],\n",
        "    'cost_of_graphite_cavity_material': ['cost_of_fitting_block', 'number_of_panels_per_block', 'graphite_cavities'],\n",
        "    'machining_cost_of_graphite_cavity': ['graphite_cavities'],\n",
        "    'cost_per_graphite_cavity': ['cost_of_graphite_cavity_material', 'machining_cost_of_graphite_cavity', 'graphite_cavities'],\n",
        "    'ase_buffer_graphite_cavities': ['graphite_cavities'],\n",
        "    'total_graphite_cavities_cost': ['cost_per_graphite_cavity', 'ase_buffer_graphite_cavities', 'graphite_cavities']}\n",
        "\n",
        "\n",
        "tungsten_liner_dependencies = {\n",
        "    'tungsten_liner_cost_per_square_meter': ['tungsten_liner'],\n",
        "    'cavity_area': ['tungsten_liner'],\n",
        "    'tungsten_liner_cost': ['tungsten_liner_cost_per_square_meter', 'cavity_area', 'tungsten_liner'],\n",
        "    'ase_buffer_tungsten_liner': ['tungsten_liner'],\n",
        "    'total_tungsten_liner_cost': ['number_of_sticks', 'tungsten_liner_cost', 'ase_buffer_tungsten_liner', 'tungsten_liner']}\n",
        "\n",
        "\n",
        "power_block_tin_dependencies = {\n",
        "    'power_block_width': ['power_block_tin'],\n",
        "    'tin_width': ['power_block_tin', 'power_block_width'],\n",
        "    'tin_thickness': ['power_block_tin'],\n",
        "    'tin_channel_ac': ['power_block_tin', 'tin_width', 'tin_thickness'],\n",
        "    'cavity_length': ['power_block_tin'],\n",
        "    'power_block_tin_volume': ['power_block_tin', 'tin_channel_ac', 'cavity_length'],\n",
        "    'power_block_tin_mass': ['power_block_tin', 'power_block_tin_volume'],\n",
        "    'subtotal_power_block_tin_cost': ['power_block_tin', 'tin_cost_per_kg', 'power_block_tin_mass'],\n",
        "    'ase_buffer_power_block_tin': ['power_block_tin'],\n",
        "    'total_power_block_tin_cost': ['power_block_tin', 'subtotal_power_block_tin_cost', 'ase_buffer_power_block_tin']}\n",
        "\n",
        "\n",
        "insulation_power_dependencies = {\n",
        "    'carbon_insulation_thickness': ['insulation_power'],\n",
        "    'power_block_width': ['insulation_power'],\n",
        "    'number_of_sticks': ['insulation_power'],\n",
        "    'tpv_power_block_length': ['insulation_power', 'power_block_width', 'number_of_sticks'],\n",
        "    'cavity_length': ['insulation_power'],\n",
        "    'tpv_power_block_height': ['insulation_power', 'cavity_length'],\n",
        "    'insulation_outer_length': ['insulation_power', 'power_block_width', 'carbon_insulation_thickness'],\n",
        "    'insulation_outer_width': ['insulation_power', 'tpv_power_block_width', 'carbon_insulation_thickness'],\n",
        "    'insulation_outer_height': ['insulation_power', 'tpv_power_block_height', 'carbon_insulation_thickness'],\n",
        "    'volume_of_insulation': ['insulation_power', 'insulation_outer_width', 'insulation_outer_length', 'insulation_outer_height', 'tpv_power_block_width', 'tpv_power_block_length', 'tpv_power_block_height'],\n",
        "    'subtotal_power_block_insulation': ['insulation_power', 'cost_of_insulation_per_m3', 'volume_of_insulation'],\n",
        "    'total_power_block_insulation_cost': ['insulation_power', 'subtotal_power_block_insulation']}\n",
        "\n",
        "\n",
        "tpv_cells_dependencies = {\n",
        "    'tpv_cells': [],\n",
        "    'MOCVD_cost': ['tpv_cells'],\n",
        "    'MOCVD_cost_relative_to_subtrate_cost': ['tpv_cells'],\n",
        "    'tpv_engineering_salary_factor': ['tpv_cells'],\n",
        "    'module_length': ['tpv_cells'],\n",
        "    'module_width': ['tpv_cells'],\n",
        "    'module_area': ['module_length', 'module_width', 'tpv_cells'],\n",
        "    'tpv_area': ['module_width', 'tpv_cells'],\n",
        "    'tpv_device_cost': ['tpv_cells'],\n",
        "    'tpv_cell_cost_per_module': ['tpv_device_cost', 'module_area', 'tpv_cells'],\n",
        "    'modules_per_stick': ['tpv_area', 'module_area', 'tpv_cells'],\n",
        "    'ase_buffer_tpv_cells': ['tpv_cells'],\n",
        "    'total_tpv_cells_cost': ['tpv_cell_cost_per_module', 'modules_per_stick', 'ase_buffer_tpv_cells']}\n",
        "\n",
        "\n",
        "tpv_module_integration_dependencies = {\n",
        "    'module_fabrication_cost': ['tpv_module_integration'],\n",
        "    'carrier_cost': ['tpv_module_integration'],\n",
        "    'modules_per_stick': ['tpv_module_integration'],\n",
        "    'total_tpv_module_integration_cost': ['tpv_module_integration', 'module_fabrication_cost', 'carrier_cost', 'modules_per_stick']}\n",
        "\n",
        "\n",
        "tpv_core_cooling_dependencies = {\n",
        "    'tpv_core_cost': ['tpv_core_cooling'],\n",
        "    'ase_buffer_tpv_core_cooling': ['tpv_core_cooling'],\n",
        "    'total_tpv_core_cooling_cost': ['tpv_core_cooling', 'tpv_core_cost', 'ase_buffer_tpv_core_cooling']}\n",
        "\n",
        "\n",
        "heat_piping_dependencies = {\n",
        "    'section_length': ['heat_piping'],\n",
        "    'number_of_elements_per_heater': ['heat_piping'],\n",
        "    'pipe_width': ['heat_piping'],\n",
        "    'charging_rate': ['heat_piping'],\n",
        "    'power_rating_of_heater': ['heat_piping'],\n",
        "    'heater_total_width': ['number_of_elements_per_heater', 'pipe_width', 'heat_piping'],\n",
        "    'number_of_heater_sections': ['charging_rate', 'power_rating_of_heater', 'heat_piping'],\n",
        "    'number_of_sections_per_run': ['section_length', 'number_of_elements_per_heater', 'heat_piping'],\n",
        "    'number_of_rows': ['number_of_heater_sections', 'number_of_sections_per_run', 'heat_piping'],\n",
        "    'fitting_diameter': ['heat_piping'],\n",
        "    'pipe_height': ['heat_piping'],\n",
        "    'section_length': ['heater_total_width', 'number_of_heater_sections', 'heat_piping'],\n",
        "    'total_pipe_length': ['section_length', 'number_of_rows', 'number_of_pipes_stacked', 'heat_piping'],\n",
        "    'total_number_of_fittings': ['heat_piping'],\n",
        "    'cost_of_pipe': ['total_pipe_length', 'heat_piping'],\n",
        "    'cost_of_fittings': ['total_number_of_fittings', 'heat_piping'],\n",
        "    'total_heat_piping_cost': ['cost_of_pipe', 'cost_of_fittings']}\n",
        "\n",
        "\n",
        "heater_tin_dependencies = {\n",
        "    'tin_volume_in_heater': ['pipe_ac', 'total_pipe_length', 'heater_tin'],\n",
        "    'tin_mass_in_heater': ['rho_tin', 'tin_volume_in_heater', 'heater_tin'],\n",
        "    'subtotal_cost_of_tin': ['tin_cost_per_kg', 'tin_mass_in_heater', 'heater_tin'],\n",
        "    'total_heater_tin_cost': ['subtotal_cost_of_tin', 'ase_buffer_heater_tin', 'heater_tin']}\n",
        "\n",
        "\n",
        "heater_module_dependencies = {\n",
        "    'tungsten_lead_cost': ['individual_tungsten_lead_cost', 'heater_module'],\n",
        "    'heater_cost': ['heater_machining_cost', 'tungsten_lead_cost', 'heater_module'],\n",
        "    'subtotal_heater_module_cost': ['heater_cost', 'number_of_heater_sections', 'heater_module'],\n",
        "    'heater_cost_per_Watt': ['heater_machining_cost', 'tungsten_lead_cost', 'power_rating_of_heater', 'heater_module'],\n",
        "    'total_heater_module_cost': ['subtotal_heater_module_cost', 'heater_module']}\n",
        "\n",
        "\n",
        "heater_insulation_dependencies = {\n",
        "    'heater_length': ['section_length', 'heater_insulation'],\n",
        "    'heater_width': ['number_of_sections_per_run', 'heater_insulation'],\n",
        "    'heater_height': ['heater_insulation'],\n",
        "    'heater_insulation_length': ['heater_length', 'carbon_insulation_thickness', 'heater_insulation'],\n",
        "    'heater_insulation_width': ['heater_width', 'carbon_insulation_thickness', 'heater_insulation'],\n",
        "    'heater_insulation_height': ['heater_height', 'carbon_insulation_thickness', 'heater_insulation'],\n",
        "    'volume_of_heater_insulation': ['heater_insulation_length', 'heater_insulation_width', 'heater_insulation_height', 'heater_length', 'heater_width', 'heater_height', 'heater_insulation'],\n",
        "    'substotal_cost_of_heater_insulation': ['cost_of_insulation_per_m3', 'volume_of_heater_insulation', 'heater_insulation'],\n",
        "    'total_heater_insulation_cost': ['substotal_cost_of_heater_insulation', 'heater_insulation']}\n",
        "\n",
        "\n",
        "heater_electronics_dependencies = {\n",
        "    'charging_rate_in_MW': ['heater_electronics'],\n",
        "    'heater_electronics_cost_per_W': ['heater_electronics'],\n",
        "    'total_heater_electronics_cost': ['charging_rate_in_MW', 'heater_electronics_cost_per_W', 'heater_electronics']}\n",
        "\n",
        "\n",
        "controlled_atmosphere_power_dependencies = {\n",
        "    'total_controlled_atmosphere_energy_cost': ['controlled_atmosphere_power'],\n",
        "    'total_controlled_atmosphere_power_cost': ['total_controlled_atmosphere_energy_cost', 'controlled_atmosphere_power']}\n",
        "\n",
        "\n",
        "dry_cooling_dependencies = {\n",
        "    'electrical_power_output': ['dry_cooling'],\n",
        "    'total_dry_cooling_cost': ['electrical_power_output', 'cost_of_dry_cooling_per_watt', 'dry_cooling']}\n",
        "\n",
        "\n",
        "inverter_dependencies = {\n",
        "    'electrical_power_output': ['inverter'],\n",
        "    'total_inverter_cost': ['electrical_power_output', 'cost_of_inverter', 'inverter']}\n",
        "\n",
        "\n",
        "power_total_cost_dependencies = {\n",
        "    'power_total_cost': [\n",
        "        'total_graphite_cavities_cost',\n",
        "        'total_tungsten_liner_cost',\n",
        "        'total_power_block_tin_cost',\n",
        "        'total_power_block_insulation_cost',\n",
        "        'total_tpv_cells_cost',\n",
        "        'total_tpv_module_integration_cost',\n",
        "        'total_tpv_core_cooling_cost',\n",
        "        'total_heat_piping_cost',\n",
        "        'total_heater_tin_cost',\n",
        "        'total_heater_module_cost',\n",
        "        'total_heater_insulation_cost',\n",
        "        'total_heater_electronics_cost',\n",
        "        'total_controlled_atmosphere_power_cost',\n",
        "        'total_dry_cooling_cost',\n",
        "        'total_inverter_cost']}"
      ]
    },
    {
      "cell_type": "code",
      "execution_count": null,
      "metadata": {
        "id": "EpEOpugDxhxD"
      },
      "outputs": [],
      "source": [
        "dot = graphviz.Digraph()\n",
        "\n",
        "for var, deps in dependencies.items():\n",
        "    for dep in deps:\n",
        "        dot.edge(dep, var)\n",
        "dot.render('variable_dependencies', format='png', cleanup=True)"
      ]
    },
    {
      "cell_type": "markdown",
      "metadata": {
        "id": "y1GqCVlNuniN"
      },
      "source": [
        "### **Exploratory Data Analysis (EDA)**"
      ]
    },
    {
      "cell_type": "code",
      "execution_count": null,
      "metadata": {
        "id": "bMCJGPgUw6Kz"
      },
      "outputs": [],
      "source": [
        "import plotly.graph_objects as go\n",
        "\n",
        "variable_names = [\n",
        "    \"ESB Cost\",\n",
        "    \"ESB Piping Cost\",\n",
        "    \"Tin Cost\",\n",
        "    \"Insulation Energy Cost\",\n",
        "    \"Instrumentation Cost\",\n",
        "    \"Controlled Atmosphere Energy Cost\",\n",
        "    \"Pumps Cost\",\n",
        "    \"Infrastructure Cost\"]\n",
        "\n",
        "variable_values = [\n",
        "    total_esb_cost,\n",
        "    total_esb_piping_cost,\n",
        "    total_tin_cost,\n",
        "    total_insulation_energy_cost,\n",
        "    total_instrumentation_cost,\n",
        "    total_controlled_atmosphere_energy_cost,\n",
        "    total_pumps_cost,\n",
        "    total_infrastructure_cost]\n",
        "\n",
        "fig = go.Figure(data=[go.Bar(\n",
        "    x=variable_values,\n",
        "    y=variable_names,\n",
        "    orientation='h',\n",
        "    hovertext=[f'Cost: ${value:,.2f}' for value in variable_values],\n",
        "    marker=dict(color='green')\n",
        ")])\n",
        "\n",
        "fig.update_layout(\n",
        "    title='Cost Breakdown of Energy Components',\n",
        "    xaxis=dict(title='Cost'),\n",
        "    yaxis=dict(title='Component'),\n",
        "    height=600,\n",
        "    width=800)\n",
        "\n",
        "fig.show()"
      ]
    },
    {
      "cell_type": "code",
      "execution_count": null,
      "metadata": {
        "id": "VaV9n_RWeYy9"
      },
      "outputs": [],
      "source": [
        "variable_names = [\n",
        "    \"ESB\",\n",
        "    \"ESB Piping\",\n",
        "    \"Tin\",\n",
        "    \"Insulation Energy\",\n",
        "    \"Instrumentation\",\n",
        "    \"Controlled Atmosphere Energy\",\n",
        "    \"Pumps\",\n",
        "    \"Infrastructure\"]\n",
        "\n",
        "variable_values = [\n",
        "    total_esb_cost,\n",
        "    total_esb_piping_cost,\n",
        "    total_tin_cost,\n",
        "    total_insulation_energy_cost,\n",
        "    total_instrumentation_cost,\n",
        "    total_controlled_atmosphere_energy_cost,\n",
        "    total_pumps_cost,\n",
        "    total_infrastructure_cost]\n",
        "\n",
        "total_cost = sum(variable_values)\n",
        "percentages = [(value / total_cost) * 100 for value in variable_values]\n",
        "\n",
        "hover_text = [f'{percent:.2f}%' for name, percent in zip(variable_names, percentages)]\n",
        "\n",
        "fig = go.Figure(data=[go.Pie(labels=variable_names, values=percentages, hole=0.3,\n",
        "                             hovertext=hover_text, hoverinfo='label+text')])\n",
        "\n",
        "fig.update_layout(\n",
        "    title='Percentage Breakdown of Energy Components',\n",
        "    height=600,\n",
        "    width=800)\n",
        "\n",
        "fig.show()"
      ]
    },
    {
      "cell_type": "code",
      "execution_count": null,
      "metadata": {
        "id": "r251PrvYxmP-"
      },
      "outputs": [],
      "source": [
        "variable_names = [\n",
        "    \"Graphite Cavities\",\n",
        "    \"Tungsten Liner\",\n",
        "    \"Power Block Tin\",\n",
        "    \"Power Block Insulation\",\n",
        "    \"TPV Cells\",\n",
        "    \"TPV Module Integration\",\n",
        "    \"TPV Core Cooling\",\n",
        "    \"Heat Piping\",\n",
        "    \"Heater Tin\",\n",
        "    \"Heater Module\",\n",
        "    \"Heater Insulation\",\n",
        "    \"Heater Electronics\",\n",
        "    \"Controlled Atmosphere Power\",\n",
        "    \"Dry Cooling\",\n",
        "    \"Inverter\"]\n",
        "\n",
        "variable_values = [\n",
        "    total_graphite_cavities_cost,\n",
        "    total_tungsten_liner_cost,\n",
        "    total_power_block_tin_cost,\n",
        "    total_power_block_insulation_cost,\n",
        "    total_tpv_cells_cost,\n",
        "    total_tpv_module_integration_cost,\n",
        "    total_tpv_core_cooling_cost,\n",
        "    total_heat_piping_cost,\n",
        "    total_heater_tin_cost,\n",
        "    total_heater_module_cost,\n",
        "    total_heater_insulation_cost,\n",
        "    total_heater_electronics_cost,\n",
        "    total_controlled_atmosphere_power_cost,\n",
        "    total_dry_cooling_cost,\n",
        "    total_inverter_cost]\n",
        "\n",
        "fig = go.Figure(data=[go.Bar(\n",
        "    x=variable_values,\n",
        "    y=variable_names,\n",
        "    orientation='h',\n",
        "    hovertext=[f'Cost: ${value:,.2f}' for value in variable_values],\n",
        "    marker=dict(color='green')\n",
        ")])\n",
        "\n",
        "fig.update_layout(\n",
        "    title='Cost Breakdown of Power Components',\n",
        "    xaxis=dict(title='Cost'),\n",
        "    yaxis=dict(title='Component'),\n",
        "    height=600,\n",
        "    width=800)\n",
        "fig.show()"
      ]
    },
    {
      "cell_type": "code",
      "execution_count": null,
      "metadata": {
        "id": "mLu9qoT1fSGd"
      },
      "outputs": [],
      "source": [
        "variable_names = [\n",
        "    \"Graphite Cavities\",\n",
        "    \"Tungsten Liner\",\n",
        "    \"Power Block Tin\",\n",
        "    \"Power Block Insulation\",\n",
        "    \"TPV Cells\",\n",
        "    \"TPV Module Integration\",\n",
        "    \"TPV Core Cooling\",\n",
        "    \"Heat Piping\",\n",
        "    \"Heater Tin\",\n",
        "    \"Heater Module\",\n",
        "    \"Heater Insulation\",\n",
        "    \"Heater Electronics\",\n",
        "    \"Controlled Atmosphere Power\",\n",
        "    \"Dry Cooling\",\n",
        "    \"Inverter\"]\n",
        "\n",
        "variable_values = [\n",
        "    total_graphite_cavities_cost,\n",
        "    total_tungsten_liner_cost,\n",
        "    total_power_block_tin_cost,\n",
        "    total_power_block_insulation_cost,\n",
        "    total_tpv_cells_cost,\n",
        "    total_tpv_module_integration_cost,\n",
        "    total_tpv_core_cooling_cost,\n",
        "    total_heat_piping_cost,\n",
        "    total_heater_tin_cost,\n",
        "    total_heater_module_cost,\n",
        "    total_heater_insulation_cost,\n",
        "    total_heater_electronics_cost,\n",
        "    total_controlled_atmosphere_power_cost,\n",
        "    total_dry_cooling_cost,\n",
        "    total_inverter_cost]\n",
        "\n",
        "total_cost = sum(variable_values)\n",
        "percentages = [(value / total_cost) * 100 for value in variable_values]\n",
        "\n",
        "hover_text = [f'{percent:.2f}%' for name, percent in zip(variable_names, percentages)]\n",
        "\n",
        "fig = go.Figure(data=[go.Pie(labels=variable_names, values=percentages, hole=0.3,\n",
        "                             hovertext=hover_text, hoverinfo='label+text')])\n",
        "\n",
        "fig.update_layout(\n",
        "    title='Percentage Breakdown of Power Components',\n",
        "    height=600,\n",
        "    width=800)\n",
        "\n",
        "fig.show()"
      ]
    },
    {
      "cell_type": "markdown",
      "metadata": {
        "id": "F_-wehPXET_y"
      },
      "source": [
        "### **ESB Density Sensitivity**"
      ]
    },
    {
      "cell_type": "code",
      "execution_count": null,
      "metadata": {
        "id": "7Dtg7PxBhoRi"
      },
      "outputs": [],
      "source": [
        "min_density_esb = 500\n",
        "max_density_esb = 3000\n",
        "increment = 10\n",
        "density_esb_values = np.arange(min_density_esb, max_density_esb + increment, increment)\n",
        "\n",
        "final_total_costs = []\n",
        "\n",
        "def calculate_total_pricing(density_esb):\n",
        "    energy_density = density_esb * energy_density_uncoverted\n",
        "    kWh_t_m3 = energy_density / 3600000\n",
        "    total_volume_esb = thermal_energy_stored_esb * 1000 / kWh_t_m3\n",
        "    total_mass_esb = density_esb * total_volume_esb\n",
        "    total_esb_cost = total_mass_esb * esb_cost_per_kg\n",
        "\n",
        "    total_number_of_blocks = total_volume_esb / volume_per_block\n",
        "    number_of_pipe_runs = total_number_of_blocks / number_of_blocks_per_run\n",
        "    total_esb_piping_cost = cost_of_pipe_and_fittings_per_run * number_of_pipe_runs\n",
        "\n",
        "    tin_volume = total_volume_esb * area_ratio\n",
        "    tin_mass_kg = tin_volume * rho_tin\n",
        "    subtotal_tin_cost = tin_cost_per_kg * tin_mass_kg\n",
        "    total_tin_cost = ase_buffer_tin + subtotal_tin_cost\n",
        "\n",
        "    power_total_cost = total_graphite_cavities_cost + total_tungsten_liner_cost + total_power_block_tin_cost + \\\n",
        "                       total_power_block_insulation_cost + total_tpv_cells_cost + total_tpv_module_integration_cost + \\\n",
        "                       total_tpv_core_cooling_cost + total_heat_piping_cost + total_heater_tin_cost + \\\n",
        "                       total_heater_module_cost + total_heater_insulation_cost + total_heater_electronics_cost + \\\n",
        "                       total_controlled_atmosphere_power_cost + total_dry_cooling_cost + total_inverter_cost\n",
        "    energy_total_cost = total_esb_cost + total_esb_piping_cost + total_tin_cost + total_insulation_energy_cost + \\\n",
        "                        total_instrumentation_cost + total_controlled_atmosphere_energy_cost + total_pumps_cost + \\\n",
        "                        total_infrastructure_cost\n",
        "\n",
        "    final_total_cost = energy_total_cost + power_total_cost + bates_rent_remaining\n",
        "    return final_total_cost\n",
        "\n",
        "for density_esb in density_esb_values:\n",
        "    final_total_costs.append(calculate_total_pricing(density_esb))\n",
        "\n",
        "fig = go.Figure()\n",
        "fig.add_trace(go.Scatter(x=density_esb_values, y=final_total_costs, mode='markers',\n",
        "                         marker=dict(symbol='circle', size=8, color='blue'),\n",
        "                         hovertext=[f\"Density ESB: {density_esb} kg/m\\u00b3<br>Final Total Cost: ${cost:.2f}\"\n",
        "                                    for density_esb, cost in zip(density_esb_values, final_total_costs)],\n",
        "                         hoverinfo='text'))\n",
        "\n",
        "fig.update_layout(title='Sensitivity Analysis: Density ESB vs. Final Total Cost',\n",
        "                  xaxis_title='Density ESB',\n",
        "                  yaxis_title='Final Total Cost',\n",
        "                  hovermode='closest',\n",
        "                  showlegend=False)\n",
        "fig.show()"
      ]
    },
    {
      "cell_type": "code",
      "execution_count": null,
      "metadata": {
        "id": "-h20127Zc9ie"
      },
      "outputs": [],
      "source": [
        "min_density_esb = 500\n",
        "max_density_esb = 3000\n",
        "increment = 10\n",
        "density_esb_values = np.arange(min_density_esb, max_density_esb + increment, increment)\n",
        "\n",
        "final_total_costs = []\n",
        "\n",
        "def calculate_total_pricing(density_esb):\n",
        "    energy_density = density_esb * energy_density_uncoverted\n",
        "    kWh_t_m3 = energy_density / 3600000\n",
        "    total_volume_esb = thermal_energy_stored_esb * 1000 / kWh_t_m3\n",
        "    total_mass_esb = density_esb * total_volume_esb\n",
        "    total_esb_cost = total_mass_esb * esb_cost_per_kg\n",
        "\n",
        "    total_number_of_blocks = total_volume_esb / volume_per_block\n",
        "    number_of_pipe_runs = total_number_of_blocks / number_of_blocks_per_run\n",
        "    total_esb_piping_cost = cost_of_pipe_and_fittings_per_run * number_of_pipe_runs\n",
        "\n",
        "    tin_volume = total_volume_esb * area_ratio\n",
        "    tin_mass_kg = tin_volume * rho_tin\n",
        "    subtotal_tin_cost = tin_cost_per_kg * tin_mass_kg\n",
        "    total_tin_cost = ase_buffer_tin + subtotal_tin_cost\n",
        "\n",
        "    power_total_cost = total_graphite_cavities_cost + total_tungsten_liner_cost + total_power_block_tin_cost + \\\n",
        "                       total_power_block_insulation_cost + total_tpv_cells_cost + total_tpv_module_integration_cost + \\\n",
        "                       total_tpv_core_cooling_cost + total_heat_piping_cost + total_heater_tin_cost + \\\n",
        "                       total_heater_module_cost + total_heater_insulation_cost + total_heater_electronics_cost + \\\n",
        "                       total_controlled_atmosphere_power_cost + total_dry_cooling_cost + total_inverter_cost\n",
        "    energy_total_cost = total_esb_cost + total_esb_piping_cost + total_tin_cost + total_insulation_energy_cost + \\\n",
        "                        total_instrumentation_cost + total_controlled_atmosphere_energy_cost + total_pumps_cost + \\\n",
        "                        total_infrastructure_cost\n",
        "\n",
        "    final_total_cost = energy_total_cost + power_total_cost + bates_rent_remaining\n",
        "    return final_total_cost\n",
        "\n",
        "for density_esb in density_esb_values:\n",
        "    final_total_costs.append(calculate_total_pricing(density_esb))\n",
        "\n",
        "fig = go.Figure()\n",
        "fig.add_trace(go.Scatter(x=density_esb_values, y=final_total_costs, mode='markers',\n",
        "                         marker=dict(symbol='circle', size=8, color='blue'),\n",
        "                         hovertext=[f\"Density ESB: {density_esb}<br>Final Total Cost: {cost:.2f}\"\n",
        "                                    for density_esb, cost in zip(density_esb_values, final_total_costs)],\n",
        "                         hoverinfo='text'))\n",
        "\n",
        "fig.update_layout(title='Sensitivity Analysis: Density ESB vs. Final Total Cost',\n",
        "                  xaxis_title='Density ESB',\n",
        "                  yaxis_title='Final Total Cost',\n",
        "                  hovermode='closest',\n",
        "                  showlegend=False)\n",
        "\n",
        "density_esb_input = FloatText(value=min_density_esb, description='Density ESB:')\n",
        "\n",
        "def update_total_cost(change):\n",
        "    density_esb = change.new\n",
        "    total_cost = calculate_total_pricing(density_esb)\n",
        "    print(f\"Total Cost when Density of ESB = {density_esb} kg/m\\u00b3: ${total_cost:.2f}\")\n",
        "\n",
        "density_esb_input.observe(update_total_cost, names='value')\n",
        "\n",
        "VBox([density_esb_input])"
      ]
    },
    {
      "cell_type": "markdown",
      "metadata": {
        "id": "LtghRrDnlB8g"
      },
      "source": [
        "### **Tin Cost Sensitivity**"
      ]
    },
    {
      "cell_type": "code",
      "execution_count": null,
      "metadata": {
        "id": "rZVz4sjXrqAP"
      },
      "outputs": [],
      "source": [
        "def sensitivity_analysis(tin_mass_kg, ase_buffer_tin, power_block_tin_mass, ase_buffer_power_block_tin,\n",
        "                         tin_mass_in_heater, ase_buffer_heater_tin, total_graphite_cavities_cost,\n",
        "                         total_tungsten_liner_cost, total_power_block_insulation_cost, total_tpv_cells_cost,\n",
        "                         total_tpv_module_integration_cost, total_tpv_core_cooling_cost, total_heat_piping_cost,\n",
        "                         total_heater_module_cost, total_heater_insulation_cost, total_heater_electronics_cost,\n",
        "                         total_controlled_atmosphere_power_cost, total_dry_cooling_cost, total_inverter_cost,\n",
        "                         total_esb_cost, total_esb_piping_cost, total_insulation_energy_cost, total_instrumentation_cost,\n",
        "                         total_controlled_atmosphere_energy_cost, total_pumps_cost, total_infrastructure_cost,\n",
        "                         bates_rent_remaining):\n",
        "\n",
        "    min_tin_cost_per_kg = 1\n",
        "    max_tin_cost_per_kg = 60\n",
        "    increment = .5\n",
        "    tin_cost_values = np.arange(min_tin_cost_per_kg, max_tin_cost_per_kg + increment, increment)\n",
        "    final_total_costs = []\n",
        "\n",
        "    for tin_cost_per_kg in tin_cost_values:\n",
        "        subtotal_tin_cost = tin_cost_per_kg * tin_mass_kg\n",
        "        total_tin_cost = ase_buffer_tin + subtotal_tin_cost\n",
        "        subtotal_power_block_tin_cost = tin_cost_per_kg * power_block_tin_mass\n",
        "        total_power_block_tin_cost = subtotal_power_block_tin_cost + ase_buffer_power_block_tin\n",
        "        subtotal_cost_of_tin = tin_cost_per_kg * tin_mass_in_heater\n",
        "        total_heater_tin_cost = subtotal_cost_of_tin + ase_buffer_heater_tin\n",
        "\n",
        "        power_total_cost = (total_graphite_cavities_cost + total_tungsten_liner_cost + total_power_block_tin_cost +\n",
        "                            total_power_block_insulation_cost + total_tpv_cells_cost + total_tpv_module_integration_cost +\n",
        "                            total_tpv_core_cooling_cost + total_heat_piping_cost + total_heater_tin_cost +\n",
        "                            total_heater_module_cost + total_heater_insulation_cost + total_heater_electronics_cost +\n",
        "                            total_controlled_atmosphere_power_cost + total_dry_cooling_cost + total_inverter_cost)\n",
        "\n",
        "        energy_total_cost = (total_esb_cost + total_esb_piping_cost + total_tin_cost + total_insulation_energy_cost +\n",
        "                             total_instrumentation_cost + total_controlled_atmosphere_energy_cost + total_pumps_cost +\n",
        "                             total_infrastructure_cost)\n",
        "\n",
        "        final_total_cost = energy_total_cost + power_total_cost + bates_rent_remaining\n",
        "        final_total_costs.append(final_total_cost)\n",
        "\n",
        "    fig_tin = go.Figure()\n",
        "    fig_tin.add_trace(go.Scatter(x=tin_cost_values, y=final_total_costs, mode='markers',\n",
        "                                 marker=dict(symbol='circle', size=8, color='blue'),\n",
        "                                 hovertext=[f\"Tin Cost per kg: ${tin_cost:.2f}<br>Final Total Cost: ${cost:.2f}\"\n",
        "                                            for tin_cost, cost in zip(tin_cost_values, final_total_costs)],\n",
        "                                 hoverinfo='text'))\n",
        "\n",
        "    fig_tin.update_layout(title='Sensitivity Analysis: Tin Cost per kg vs. Final Total Cost',\n",
        "                          xaxis_title='Tin Cost per kg',\n",
        "                          yaxis_title='Final Total Cost (Millions)',\n",
        "                          hovermode='closest',\n",
        "                          showlegend=False)\n",
        "\n",
        "    return fig_tin, final_total_costs\n",
        "fig, costs = sensitivity_analysis(tin_mass_kg, ase_buffer_tin, power_block_tin_mass, ase_buffer_power_block_tin,\n",
        "                                  tin_mass_in_heater, ase_buffer_heater_tin, total_graphite_cavities_cost,\n",
        "                                  total_tungsten_liner_cost, total_power_block_insulation_cost, total_tpv_cells_cost,\n",
        "                                  total_tpv_module_integration_cost, total_tpv_core_cooling_cost, total_heat_piping_cost,\n",
        "                                  total_heater_module_cost, total_heater_insulation_cost, total_heater_electronics_cost,\n",
        "                                  total_controlled_atmosphere_power_cost, total_dry_cooling_cost, total_inverter_cost,\n",
        "                                  total_esb_cost, total_esb_piping_cost, total_insulation_energy_cost, total_instrumentation_cost,\n",
        "                                  total_controlled_atmosphere_energy_cost, total_pumps_cost, total_infrastructure_cost,\n",
        "                                  bates_rent_remaining)\n",
        "fig.show()"
      ]
    },
    {
      "cell_type": "code",
      "execution_count": null,
      "metadata": {
        "id": "oe1EFTLrwpVx"
      },
      "outputs": [],
      "source": [
        "def sensitivity_analysis(tin_mass_kg, ase_buffer_tin, power_block_tin_mass, ase_buffer_power_block_tin,\n",
        "                         tin_mass_in_heater, ase_buffer_heater_tin, total_graphite_cavities_cost,\n",
        "                         total_tungsten_liner_cost, total_power_block_insulation_cost, total_tpv_cells_cost,\n",
        "                         total_tpv_module_integration_cost, total_tpv_core_cooling_cost, total_heat_piping_cost,\n",
        "                         total_heater_module_cost, total_heater_insulation_cost, total_heater_electronics_cost,\n",
        "                         total_controlled_atmosphere_power_cost, total_dry_cooling_cost, total_inverter_cost,\n",
        "                         total_esb_cost, total_esb_piping_cost, total_insulation_energy_cost, total_instrumentation_cost,\n",
        "                         total_controlled_atmosphere_energy_cost, total_pumps_cost, total_infrastructure_cost,\n",
        "                         bates_rent_remaining):\n",
        "\n",
        "    min_tin_cost_per_kg = 1\n",
        "    max_tin_cost_per_kg = 60\n",
        "    increment = .5\n",
        "    tin_cost_values = np.arange(min_tin_cost_per_kg, max_tin_cost_per_kg + increment, increment)\n",
        "    final_total_costs = []\n",
        "\n",
        "    for tin_cost_per_kg in tin_cost_values:\n",
        "        subtotal_tin_cost = tin_cost_per_kg * tin_mass_kg\n",
        "        total_tin_cost = ase_buffer_tin + subtotal_tin_cost\n",
        "        subtotal_power_block_tin_cost = tin_cost_per_kg * power_block_tin_mass\n",
        "        total_power_block_tin_cost = subtotal_power_block_tin_cost + ase_buffer_power_block_tin\n",
        "        subtotal_cost_of_tin = tin_cost_per_kg * tin_mass_in_heater\n",
        "        total_heater_tin_cost = subtotal_cost_of_tin + ase_buffer_heater_tin\n",
        "\n",
        "        power_total_cost = (total_graphite_cavities_cost + total_tungsten_liner_cost + total_power_block_tin_cost +\n",
        "                            total_power_block_insulation_cost + total_tpv_cells_cost + total_tpv_module_integration_cost +\n",
        "                            total_tpv_core_cooling_cost + total_heat_piping_cost + total_heater_tin_cost +\n",
        "                            total_heater_module_cost + total_heater_insulation_cost + total_heater_electronics_cost +\n",
        "                            total_controlled_atmosphere_power_cost + total_dry_cooling_cost + total_inverter_cost)\n",
        "\n",
        "        energy_total_cost = (total_esb_cost + total_esb_piping_cost + total_tin_cost + total_insulation_energy_cost +\n",
        "                             total_instrumentation_cost + total_controlled_atmosphere_energy_cost + total_pumps_cost +\n",
        "                             total_infrastructure_cost)\n",
        "\n",
        "        final_total_cost = energy_total_cost + power_total_cost + bates_rent_remaining\n",
        "        final_total_costs.append(final_total_cost)\n",
        "\n",
        "    fig_tin = go.Figure()\n",
        "    fig_tin.add_trace(go.Scatter(x=tin_cost_values, y=final_total_costs, mode='markers',\n",
        "                                 marker=dict(symbol='circle', size=8, color='blue'),\n",
        "                                 hovertext=[f\"Tin Cost per kg: {tin_cost:.2f}<br>Final Total Cost: ${cost:.2f} million\"\n",
        "                                            for tin_cost, cost in zip(tin_cost_values, final_total_costs)],\n",
        "                                 hoverinfo='text'))\n",
        "\n",
        "    fig_tin.update_layout(title='Sensitivity Analysis: Tin Cost per kg vs. Final Total Cost',\n",
        "                          xaxis_title='Tin Cost per kg',\n",
        "                          yaxis_title='Final Total Cost (Millions)',\n",
        "                          hovermode='closest',\n",
        "                          showlegend=False)\n",
        "\n",
        "    tin_cost_input = FloatText(value=min_tin_cost_per_kg, description='Tin Cost per kg: $')\n",
        "\n",
        "    def update_total_cost(change):\n",
        "        tin_cost_per_kg = change.new\n",
        "\n",
        "        subtotal_tin_cost = tin_cost_per_kg * tin_mass_kg\n",
        "        total_tin_cost = ase_buffer_tin + subtotal_tin_cost\n",
        "        subtotal_power_block_tin_cost = tin_cost_per_kg * power_block_tin_mass\n",
        "        total_power_block_tin_cost = subtotal_power_block_tin_cost + ase_buffer_power_block_tin\n",
        "        subtotal_cost_of_tin = tin_cost_per_kg * tin_mass_in_heater\n",
        "        total_heater_tin_cost = subtotal_cost_of_tin + ase_buffer_heater_tin\n",
        "\n",
        "        power_total_cost = (total_graphite_cavities_cost + total_tungsten_liner_cost + total_power_block_tin_cost +\n",
        "                            total_power_block_insulation_cost + total_tpv_cells_cost + total_tpv_module_integration_cost +\n",
        "                            total_tpv_core_cooling_cost + total_heat_piping_cost + total_heater_tin_cost +\n",
        "                            total_heater_module_cost + total_heater_insulation_cost + total_heater_electronics_cost +\n",
        "                            total_controlled_atmosphere_power_cost + total_dry_cooling_cost + total_inverter_cost)\n",
        "\n",
        "        energy_total_cost = (total_esb_cost + total_esb_piping_cost + total_tin_cost + total_insulation_energy_cost +\n",
        "                             total_instrumentation_cost + total_controlled_atmosphere_energy_cost + total_pumps_cost +\n",
        "                             total_infrastructure_cost)\n",
        "\n",
        "        final_total_cost = energy_total_cost + power_total_cost + bates_rent_remaining\n",
        "        print(f\"Total Cost when Tin Cost per kg = ${tin_cost_per_kg}: ${final_total_cost:.2f}\")\n",
        "\n",
        "    tin_cost_input.observe(update_total_cost, names='value')\n",
        "\n",
        "    return fig_tin, tin_cost_input\n",
        "\n",
        "fig, tin_cost_input = sensitivity_analysis(tin_mass_kg, ase_buffer_tin, power_block_tin_mass, ase_buffer_power_block_tin,\n",
        "                                           tin_mass_in_heater, ase_buffer_heater_tin, total_graphite_cavities_cost,\n",
        "                                           total_tungsten_liner_cost, total_power_block_insulation_cost, total_tpv_cells_cost,\n",
        "                                           total_tpv_module_integration_cost, total_tpv_core_cooling_cost, total_heat_piping_cost,\n",
        "                                           total_heater_module_cost, total_heater_insulation_cost, total_heater_electronics_cost,\n",
        "                                           total_controlled_atmosphere_power_cost, total_dry_cooling_cost, total_inverter_cost,\n",
        "                                           total_esb_cost, total_esb_piping_cost, total_insulation_energy_cost, total_instrumentation_cost,\n",
        "                                           total_controlled_atmosphere_energy_cost, total_pumps_cost, total_infrastructure_cost,\n",
        "                                           bates_rent_remaining)\n",
        "\n",
        "VBox([tin_cost_input])"
      ]
    }
  ],
  "metadata": {
    "colab": {
      "provenance": []
    },
    "kernelspec": {
      "display_name": "Python 3 (ipykernel)",
      "language": "python",
      "name": "python3"
    },
    "language_info": {
      "codemirror_mode": {
        "name": "ipython",
        "version": 3
      },
      "file_extension": ".py",
      "mimetype": "text/x-python",
      "name": "python",
      "nbconvert_exporter": "python",
      "pygments_lexer": "ipython3",
      "version": "3.11.4"
    }
  },
  "nbformat": 4,
  "nbformat_minor": 0
}